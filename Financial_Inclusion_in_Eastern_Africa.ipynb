{
  "nbformat": 4,
  "nbformat_minor": 0,
  "metadata": {
    "colab": {
      "name": "Financial Inclusion in Eastern Africa.ipynb",
      "provenance": [],
      "collapsed_sections": [],
      "authorship_tag": "ABX9TyMhhST78IJ+kFoc1B2My/95",
      "include_colab_link": true
    },
    "kernelspec": {
      "name": "python3",
      "display_name": "Python 3"
    }
  },
  "cells": [
    {
      "cell_type": "markdown",
      "metadata": {
        "id": "view-in-github",
        "colab_type": "text"
      },
      "source": [
        "<a href=\"https://colab.research.google.com/github/Mumo-vicky/Financial-Inclusion-in-Eastern-Africa/blob/master/Financial_Inclusion_in_Eastern_Africa.ipynb\" target=\"_parent\"><img src=\"https://colab.research.google.com/assets/colab-badge.svg\" alt=\"Open In Colab\"/></a>"
      ]
    },
    {
      "cell_type": "markdown",
      "metadata": {
        "id": "uvT6yAStH2W_",
        "colab_type": "text"
      },
      "source": [
        "# **Business Understanding**"
      ]
    },
    {
      "cell_type": "markdown",
      "metadata": {
        "id": "n9syul7jIIWV",
        "colab_type": "text"
      },
      "source": [
        "\n",
        "> Financial inclusion is one of the many obstacles for economic and human development in Africa. Access to bank accounts in the continent has een regarded as an indicator to show financial inclusion. It enables families to save and facilitate payments for various bills. It has also helped in growing businesses' credit-worthiness and also improve their access to other useful financial resources. We can thus say that access to bank accounts is an essential contributor to economic growth.\n",
        "\n",
        "> I have been tasked with the work of figuring out how we can predict the individuals most likely to have or use a bank account. The countries of interest are Kenya, Tanzania, Uganda and Rwanda within 2016 through to 2018.\n",
        "\n",
        "> The solution is suppossed to proide an insight of the financial inclusion in the countries and also provide demographic factors that contribute to the economic growth in the coutries or rather the financial outcomes of the individuals."
      ]
    },
    {
      "cell_type": "markdown",
      "metadata": {
        "id": "f0T2NSCoICyx",
        "colab_type": "text"
      },
      "source": [
        "# **Data Understanding**"
      ]
    },
    {
      "cell_type": "markdown",
      "metadata": {
        "id": "GGS_lHxnsumC",
        "colab_type": "text"
      },
      "source": [
        "## **Data Explanation**"
      ]
    },
    {
      "cell_type": "markdown",
      "metadata": {
        "id": "9eWQxhQFIXHo",
        "colab_type": "text"
      },
      "source": [
        "\n",
        "> I have been provided with a dataset that is going to help me in my analysis for the required information. The dataset contains various field with various data types. These include:\n",
        "\n",
        "*   Country\n",
        "*   Year\n",
        "*   Unique Identifier\n",
        "*   Bank Account Access\n",
        "*   Location\n",
        "*   Cell-Phone Access.\n",
        "*   Household Size.\n",
        "*   Respondent's Age\n",
        "*   Relationship with the head of the household.\n",
        "*   Marital Status\n",
        "*   Level of Education\n",
        "*   Type of Job\n",
        "\n",
        ">  The various fields should help me derive insights for the analysis I am going to do."
      ]
    },
    {
      "cell_type": "markdown",
      "metadata": {
        "id": "QiY3Qrt7T1t_",
        "colab_type": "text"
      },
      "source": [
        "## **Formulating the Question**"
      ]
    },
    {
      "cell_type": "markdown",
      "metadata": {
        "id": "6wEkIPKlUAz2",
        "colab_type": "text"
      },
      "source": [
        "What group of people in the countries have the highest access to bank accounts?"
      ]
    },
    {
      "cell_type": "markdown",
      "metadata": {
        "id": "p_rmbXPtksL1",
        "colab_type": "text"
      },
      "source": [
        "## **The Metric For Success**"
      ]
    },
    {
      "cell_type": "markdown",
      "metadata": {
        "id": "UDsjj6DTldkM",
        "colab_type": "text"
      },
      "source": [
        "Finding the group of people with the highest access to bank account."
      ]
    },
    {
      "cell_type": "markdown",
      "metadata": {
        "id": "ZmOfUeAZIu51",
        "colab_type": "text"
      },
      "source": [
        "# **Data Exploration**"
      ]
    },
    {
      "cell_type": "markdown",
      "metadata": {
        "id": "wvXhZxpMtMov",
        "colab_type": "text"
      },
      "source": [
        "## **Loading our Environment.**"
      ]
    },
    {
      "cell_type": "code",
      "metadata": {
        "id": "Fyo2Z--9tMTT",
        "colab_type": "code",
        "colab": {}
      },
      "source": [
        "# Importing Numpy\n",
        "import numpy as np\n",
        "\n",
        "# Importing Pandas\n",
        "import pandas as pd\n",
        "\n",
        "# Importing Matplotlib\n",
        "import matplotlib.pyplot as plt\n",
        "\n",
        "# Importing Seaborn\n",
        "import seaborn as sns"
      ],
      "execution_count": 2,
      "outputs": []
    },
    {
      "cell_type": "markdown",
      "metadata": {
        "id": "lxwQFyVhkvxC",
        "colab_type": "text"
      },
      "source": [
        "## **Reading in the Data**"
      ]
    },
    {
      "cell_type": "code",
      "metadata": {
        "id": "CK5owipskwVz",
        "colab_type": "code",
        "colab": {}
      },
      "source": [
        "financial = pd.read_csv('Financial Dataset - 1.csv')"
      ],
      "execution_count": 3,
      "outputs": []
    },
    {
      "cell_type": "code",
      "metadata": {
        "id": "eiWe5A1708R1",
        "colab_type": "code",
        "colab": {}
      },
      "source": [
        "#Changing the column names for easier referral\n",
        "financial = financial.rename(columns={\"uniqueid\": \"id\", \"Has a Bank account\": \"bank_account_access\", \"Type of Location\": \"location\", \"Cell Phone Access\": \"cellphone_access\", \"Respondent Age\": \"age\", \"gender_of_respondent\": \"gender\", \"The relathip with head\": \"rship_with_head\", \"Level of Educuation\": \"education_level\", \"Type of Job\": \"job\"})"
      ],
      "execution_count": 4,
      "outputs": []
    },
    {
      "cell_type": "markdown",
      "metadata": {
        "id": "vlDG2XmYkxV4",
        "colab_type": "text"
      },
      "source": [
        "## **Exploring the Data**"
      ]
    },
    {
      "cell_type": "code",
      "metadata": {
        "id": "liRp-q6IxpIv",
        "colab_type": "code",
        "colab": {
          "base_uri": "https://localhost:8080/",
          "height": 322
        },
        "outputId": "727059a7-4a2d-4676-89c3-5e115069bbde"
      },
      "source": [
        "#Viewing the top of the dataset\n",
        "financial.head()"
      ],
      "execution_count": 5,
      "outputs": [
        {
          "output_type": "execute_result",
          "data": {
            "text/html": [
              "<div>\n",
              "<style scoped>\n",
              "    .dataframe tbody tr th:only-of-type {\n",
              "        vertical-align: middle;\n",
              "    }\n",
              "\n",
              "    .dataframe tbody tr th {\n",
              "        vertical-align: top;\n",
              "    }\n",
              "\n",
              "    .dataframe thead th {\n",
              "        text-align: right;\n",
              "    }\n",
              "</style>\n",
              "<table border=\"1\" class=\"dataframe\">\n",
              "  <thead>\n",
              "    <tr style=\"text-align: right;\">\n",
              "      <th></th>\n",
              "      <th>country</th>\n",
              "      <th>year</th>\n",
              "      <th>id</th>\n",
              "      <th>bank_account_access</th>\n",
              "      <th>location</th>\n",
              "      <th>cellphone_access</th>\n",
              "      <th>household_size</th>\n",
              "      <th>age</th>\n",
              "      <th>gender</th>\n",
              "      <th>rship_with_head</th>\n",
              "      <th>marital_status</th>\n",
              "      <th>education_level</th>\n",
              "      <th>job</th>\n",
              "    </tr>\n",
              "  </thead>\n",
              "  <tbody>\n",
              "    <tr>\n",
              "      <th>0</th>\n",
              "      <td>Kenya</td>\n",
              "      <td>2018</td>\n",
              "      <td>uniqueid_1</td>\n",
              "      <td>Yes</td>\n",
              "      <td>Rural</td>\n",
              "      <td>Yes</td>\n",
              "      <td>3.0</td>\n",
              "      <td>24.0</td>\n",
              "      <td>Female</td>\n",
              "      <td>Spouse</td>\n",
              "      <td>Married/Living together</td>\n",
              "      <td>Secondary education</td>\n",
              "      <td>Self employed</td>\n",
              "    </tr>\n",
              "    <tr>\n",
              "      <th>1</th>\n",
              "      <td>Kenya</td>\n",
              "      <td>2018</td>\n",
              "      <td>uniqueid_2</td>\n",
              "      <td>No</td>\n",
              "      <td>Rural</td>\n",
              "      <td>No</td>\n",
              "      <td>5.0</td>\n",
              "      <td>70.0</td>\n",
              "      <td>Female</td>\n",
              "      <td>Head of Household</td>\n",
              "      <td>Widowed</td>\n",
              "      <td>No formal education</td>\n",
              "      <td>Government Dependent</td>\n",
              "    </tr>\n",
              "    <tr>\n",
              "      <th>2</th>\n",
              "      <td>Kenya</td>\n",
              "      <td>2018</td>\n",
              "      <td>uniqueid_3</td>\n",
              "      <td>Yes</td>\n",
              "      <td>Urban</td>\n",
              "      <td>Yes</td>\n",
              "      <td>5.0</td>\n",
              "      <td>26.0</td>\n",
              "      <td>Male</td>\n",
              "      <td>Other relative</td>\n",
              "      <td>Single/Never Married</td>\n",
              "      <td>Vocational/Specialised training</td>\n",
              "      <td>Self employed</td>\n",
              "    </tr>\n",
              "    <tr>\n",
              "      <th>3</th>\n",
              "      <td>Kenya</td>\n",
              "      <td>2018</td>\n",
              "      <td>uniqueid_4</td>\n",
              "      <td>No</td>\n",
              "      <td>Rural</td>\n",
              "      <td>Yes</td>\n",
              "      <td>5.0</td>\n",
              "      <td>34.0</td>\n",
              "      <td>Female</td>\n",
              "      <td>Head of Household</td>\n",
              "      <td>Married/Living together</td>\n",
              "      <td>Primary education</td>\n",
              "      <td>Formally employed Private</td>\n",
              "    </tr>\n",
              "    <tr>\n",
              "      <th>4</th>\n",
              "      <td>Kenya</td>\n",
              "      <td>2018</td>\n",
              "      <td>uniqueid_5</td>\n",
              "      <td>No</td>\n",
              "      <td>Urban</td>\n",
              "      <td>No</td>\n",
              "      <td>8.0</td>\n",
              "      <td>26.0</td>\n",
              "      <td>Male</td>\n",
              "      <td>Child</td>\n",
              "      <td>Single/Never Married</td>\n",
              "      <td>Primary education</td>\n",
              "      <td>Informally employed</td>\n",
              "    </tr>\n",
              "  </tbody>\n",
              "</table>\n",
              "</div>"
            ],
            "text/plain": [
              "  country  year  ...                  education_level                        job\n",
              "0   Kenya  2018  ...              Secondary education              Self employed\n",
              "1   Kenya  2018  ...              No formal education       Government Dependent\n",
              "2   Kenya  2018  ...  Vocational/Specialised training              Self employed\n",
              "3   Kenya  2018  ...                Primary education  Formally employed Private\n",
              "4   Kenya  2018  ...                Primary education        Informally employed\n",
              "\n",
              "[5 rows x 13 columns]"
            ]
          },
          "metadata": {
            "tags": []
          },
          "execution_count": 5
        }
      ]
    },
    {
      "cell_type": "code",
      "metadata": {
        "id": "5hhF3Z3axzqx",
        "colab_type": "code",
        "colab": {
          "base_uri": "https://localhost:8080/",
          "height": 305
        },
        "outputId": "7f8db8da-bfb3-4d04-cb43-b1948bd6c351"
      },
      "source": [
        "#Viewing the bottom of the dataset\n",
        "financial.tail()"
      ],
      "execution_count": 6,
      "outputs": [
        {
          "output_type": "execute_result",
          "data": {
            "text/html": [
              "<div>\n",
              "<style scoped>\n",
              "    .dataframe tbody tr th:only-of-type {\n",
              "        vertical-align: middle;\n",
              "    }\n",
              "\n",
              "    .dataframe tbody tr th {\n",
              "        vertical-align: top;\n",
              "    }\n",
              "\n",
              "    .dataframe thead th {\n",
              "        text-align: right;\n",
              "    }\n",
              "</style>\n",
              "<table border=\"1\" class=\"dataframe\">\n",
              "  <thead>\n",
              "    <tr style=\"text-align: right;\">\n",
              "      <th></th>\n",
              "      <th>country</th>\n",
              "      <th>year</th>\n",
              "      <th>id</th>\n",
              "      <th>bank_account_access</th>\n",
              "      <th>location</th>\n",
              "      <th>cellphone_access</th>\n",
              "      <th>household_size</th>\n",
              "      <th>age</th>\n",
              "      <th>gender</th>\n",
              "      <th>rship_with_head</th>\n",
              "      <th>marital_status</th>\n",
              "      <th>education_level</th>\n",
              "      <th>job</th>\n",
              "    </tr>\n",
              "  </thead>\n",
              "  <tbody>\n",
              "    <tr>\n",
              "      <th>23519</th>\n",
              "      <td>Uganda</td>\n",
              "      <td>2018</td>\n",
              "      <td>uniqueid_2113</td>\n",
              "      <td>No</td>\n",
              "      <td>Rural</td>\n",
              "      <td>Yes</td>\n",
              "      <td>4.0</td>\n",
              "      <td>48.0</td>\n",
              "      <td>Female</td>\n",
              "      <td>Head of Household</td>\n",
              "      <td>Divorced/Seperated</td>\n",
              "      <td>No formal education</td>\n",
              "      <td>Other Income</td>\n",
              "    </tr>\n",
              "    <tr>\n",
              "      <th>23520</th>\n",
              "      <td>Uganda</td>\n",
              "      <td>2018</td>\n",
              "      <td>uniqueid_2114</td>\n",
              "      <td>No</td>\n",
              "      <td>Rural</td>\n",
              "      <td>Yes</td>\n",
              "      <td>2.0</td>\n",
              "      <td>27.0</td>\n",
              "      <td>Female</td>\n",
              "      <td>Head of Household</td>\n",
              "      <td>Single/Never Married</td>\n",
              "      <td>Secondary education</td>\n",
              "      <td>Other Income</td>\n",
              "    </tr>\n",
              "    <tr>\n",
              "      <th>23521</th>\n",
              "      <td>Uganda</td>\n",
              "      <td>2018</td>\n",
              "      <td>uniqueid_2115</td>\n",
              "      <td>No</td>\n",
              "      <td>Rural</td>\n",
              "      <td>Yes</td>\n",
              "      <td>5.0</td>\n",
              "      <td>27.0</td>\n",
              "      <td>Female</td>\n",
              "      <td>Parent</td>\n",
              "      <td>Widowed</td>\n",
              "      <td>Primary education</td>\n",
              "      <td>Other Income</td>\n",
              "    </tr>\n",
              "    <tr>\n",
              "      <th>23522</th>\n",
              "      <td>Uganda</td>\n",
              "      <td>2018</td>\n",
              "      <td>uniqueid_2116</td>\n",
              "      <td>No</td>\n",
              "      <td>Urban</td>\n",
              "      <td>Yes</td>\n",
              "      <td>7.0</td>\n",
              "      <td>30.0</td>\n",
              "      <td>Female</td>\n",
              "      <td>Parent</td>\n",
              "      <td>Divorced/Seperated</td>\n",
              "      <td>Secondary education</td>\n",
              "      <td>Self employed</td>\n",
              "    </tr>\n",
              "    <tr>\n",
              "      <th>23523</th>\n",
              "      <td>Uganda</td>\n",
              "      <td>2018</td>\n",
              "      <td>uniqueid_2117</td>\n",
              "      <td>No</td>\n",
              "      <td>Rural</td>\n",
              "      <td>Yes</td>\n",
              "      <td>10.0</td>\n",
              "      <td>20.0</td>\n",
              "      <td>Male</td>\n",
              "      <td>Child</td>\n",
              "      <td>Single/Never Married</td>\n",
              "      <td>Secondary education</td>\n",
              "      <td>No Income</td>\n",
              "    </tr>\n",
              "  </tbody>\n",
              "</table>\n",
              "</div>"
            ],
            "text/plain": [
              "      country  year  ...      education_level            job\n",
              "23519  Uganda  2018  ...  No formal education   Other Income\n",
              "23520  Uganda  2018  ...  Secondary education   Other Income\n",
              "23521  Uganda  2018  ...    Primary education   Other Income\n",
              "23522  Uganda  2018  ...  Secondary education  Self employed\n",
              "23523  Uganda  2018  ...  Secondary education      No Income\n",
              "\n",
              "[5 rows x 13 columns]"
            ]
          },
          "metadata": {
            "tags": []
          },
          "execution_count": 6
        }
      ]
    },
    {
      "cell_type": "code",
      "metadata": {
        "id": "YcTv5LDD_Enl",
        "colab_type": "code",
        "colab": {
          "base_uri": "https://localhost:8080/",
          "height": 35
        },
        "outputId": "c8e135a3-f0a3-43b4-c00f-d7705cc1af25"
      },
      "source": [
        "#Checking the number of rows and columns\n",
        "financial.shape"
      ],
      "execution_count": 7,
      "outputs": [
        {
          "output_type": "execute_result",
          "data": {
            "text/plain": [
              "(23524, 13)"
            ]
          },
          "metadata": {
            "tags": []
          },
          "execution_count": 7
        }
      ]
    },
    {
      "cell_type": "code",
      "metadata": {
        "id": "B7XpMumZyGDj",
        "colab_type": "code",
        "colab": {
          "base_uri": "https://localhost:8080/",
          "height": 288
        },
        "outputId": "389ca732-4f4c-4061-eb2c-711ff3569ea8"
      },
      "source": [
        "#Describing the numerical aspects of the dataset\n",
        "financial.describe()"
      ],
      "execution_count": 8,
      "outputs": [
        {
          "output_type": "execute_result",
          "data": {
            "text/html": [
              "<div>\n",
              "<style scoped>\n",
              "    .dataframe tbody tr th:only-of-type {\n",
              "        vertical-align: middle;\n",
              "    }\n",
              "\n",
              "    .dataframe tbody tr th {\n",
              "        vertical-align: top;\n",
              "    }\n",
              "\n",
              "    .dataframe thead th {\n",
              "        text-align: right;\n",
              "    }\n",
              "</style>\n",
              "<table border=\"1\" class=\"dataframe\">\n",
              "  <thead>\n",
              "    <tr style=\"text-align: right;\">\n",
              "      <th></th>\n",
              "      <th>year</th>\n",
              "      <th>household_size</th>\n",
              "      <th>age</th>\n",
              "    </tr>\n",
              "  </thead>\n",
              "  <tbody>\n",
              "    <tr>\n",
              "      <th>count</th>\n",
              "      <td>23524.000000</td>\n",
              "      <td>23496.000000</td>\n",
              "      <td>23490.000000</td>\n",
              "    </tr>\n",
              "    <tr>\n",
              "      <th>mean</th>\n",
              "      <td>2016.979000</td>\n",
              "      <td>3.681818</td>\n",
              "      <td>38.804300</td>\n",
              "    </tr>\n",
              "    <tr>\n",
              "      <th>std</th>\n",
              "      <td>0.899669</td>\n",
              "      <td>2.279933</td>\n",
              "      <td>16.519996</td>\n",
              "    </tr>\n",
              "    <tr>\n",
              "      <th>min</th>\n",
              "      <td>2016.000000</td>\n",
              "      <td>0.000000</td>\n",
              "      <td>16.000000</td>\n",
              "    </tr>\n",
              "    <tr>\n",
              "      <th>25%</th>\n",
              "      <td>2016.000000</td>\n",
              "      <td>2.000000</td>\n",
              "      <td>26.000000</td>\n",
              "    </tr>\n",
              "    <tr>\n",
              "      <th>50%</th>\n",
              "      <td>2017.000000</td>\n",
              "      <td>3.000000</td>\n",
              "      <td>35.000000</td>\n",
              "    </tr>\n",
              "    <tr>\n",
              "      <th>75%</th>\n",
              "      <td>2018.000000</td>\n",
              "      <td>5.000000</td>\n",
              "      <td>49.000000</td>\n",
              "    </tr>\n",
              "    <tr>\n",
              "      <th>max</th>\n",
              "      <td>2056.000000</td>\n",
              "      <td>21.000000</td>\n",
              "      <td>100.000000</td>\n",
              "    </tr>\n",
              "  </tbody>\n",
              "</table>\n",
              "</div>"
            ],
            "text/plain": [
              "               year  household_size           age\n",
              "count  23524.000000    23496.000000  23490.000000\n",
              "mean    2016.979000        3.681818     38.804300\n",
              "std        0.899669        2.279933     16.519996\n",
              "min     2016.000000        0.000000     16.000000\n",
              "25%     2016.000000        2.000000     26.000000\n",
              "50%     2017.000000        3.000000     35.000000\n",
              "75%     2018.000000        5.000000     49.000000\n",
              "max     2056.000000       21.000000    100.000000"
            ]
          },
          "metadata": {
            "tags": []
          },
          "execution_count": 8
        }
      ]
    },
    {
      "cell_type": "code",
      "metadata": {
        "id": "pEV52McY0mPD",
        "colab_type": "code",
        "colab": {
          "base_uri": "https://localhost:8080/",
          "height": 297
        },
        "outputId": "f1396c3b-b58c-40fa-d655-ab7d366ad6a5"
      },
      "source": [
        "#Checking for outliers in the years\n",
        "sns.boxplot(x=financial['year'])"
      ],
      "execution_count": 9,
      "outputs": [
        {
          "output_type": "execute_result",
          "data": {
            "text/plain": [
              "<matplotlib.axes._subplots.AxesSubplot at 0x7f86350f25f8>"
            ]
          },
          "metadata": {
            "tags": []
          },
          "execution_count": 9
        },
        {
          "output_type": "display_data",
          "data": {
            "image/png": "[encoded data removed]",
            "text/plain": [
              "<Figure size 432x288 with 1 Axes>"
            ]
          },
          "metadata": {
            "tags": [],
            "needs_background": "light"
          }
        }
      ]
    },
    {
      "cell_type": "markdown",
      "metadata": {
        "id": "Bq_atWny7yW8",
        "colab_type": "text"
      },
      "source": [
        "This shows that there are years that are beyond or scope for analysis.\n",
        "We are going to remove them later in the process in order to remain with the relevant years for analysis."
      ]
    },
    {
      "cell_type": "code",
      "metadata": {
        "id": "8glOTVpm0wAa",
        "colab_type": "code",
        "colab": {
          "base_uri": "https://localhost:8080/",
          "height": 298
        },
        "outputId": "0c1eb498-247b-4213-9773-ed8cb05426d7"
      },
      "source": [
        "#Checking for outliers in the household sizes\n",
        "sns.boxplot(x=financial['household_size'])"
      ],
      "execution_count": 10,
      "outputs": [
        {
          "output_type": "execute_result",
          "data": {
            "text/plain": [
              "<matplotlib.axes._subplots.AxesSubplot at 0x7f8634fceac8>"
            ]
          },
          "metadata": {
            "tags": []
          },
          "execution_count": 10
        },
        {
          "output_type": "display_data",
          "data": {
            "image/png": "[encoded data removed]",
            "text/plain": [
              "<Figure size 432x288 with 1 Axes>"
            ]
          },
          "metadata": {
            "tags": [],
            "needs_background": "light"
          }
        }
      ]
    },
    {
      "cell_type": "markdown",
      "metadata": {
        "id": "P6bBe8Hu8KbI",
        "colab_type": "text"
      },
      "source": [
        "This shows that there are some households that are beyond the normal or rather the expected range. This is okay and it is just a variance in the range of household size."
      ]
    },
    {
      "cell_type": "code",
      "metadata": {
        "id": "PjO_Z4Dt1vmc",
        "colab_type": "code",
        "colab": {
          "base_uri": "https://localhost:8080/",
          "height": 297
        },
        "outputId": "33de3e86-cf34-4125-f6ff-8d4a5994ad86"
      },
      "source": [
        "#Checking for outliers in the ages\n",
        "sns.boxplot(x=financial['age'])"
      ],
      "execution_count": 11,
      "outputs": [
        {
          "output_type": "execute_result",
          "data": {
            "text/plain": [
              "<matplotlib.axes._subplots.AxesSubplot at 0x7f8634b68240>"
            ]
          },
          "metadata": {
            "tags": []
          },
          "execution_count": 11
        },
        {
          "output_type": "display_data",
          "data": {
            "image/png": "[encoded data removed]",
            "text/plain": [
              "<Figure size 432x288 with 1 Axes>"
            ]
          },
          "metadata": {
            "tags": [],
            "needs_background": "light"
          }
        }
      ]
    },
    {
      "cell_type": "markdown",
      "metadata": {
        "id": "aqo9jTCZ_5d-",
        "colab_type": "text"
      },
      "source": [
        "Thre seems to be some ages well beyond the range but this too is okay as the population or rather the concetration seems to be high. We are thus not going to remove these too."
      ]
    },
    {
      "cell_type": "code",
      "metadata": {
        "id": "HBKn-a571czm",
        "colab_type": "code",
        "colab": {
          "base_uri": "https://localhost:8080/",
          "height": 272
        },
        "outputId": "f58d7be0-3c10-4cff-a0f8-cecbb511a184"
      },
      "source": [
        "#Checking for the sum of null values\n",
        "financial.isnull().sum()"
      ],
      "execution_count": 12,
      "outputs": [
        {
          "output_type": "execute_result",
          "data": {
            "text/plain": [
              "country                14\n",
              "year                    0\n",
              "id                      0\n",
              "bank_account_access    36\n",
              "location               15\n",
              "cellphone_access       11\n",
              "household_size         28\n",
              "age                    34\n",
              "gender                 34\n",
              "rship_with_head         4\n",
              "marital_status         32\n",
              "education_level        29\n",
              "job                    30\n",
              "dtype: int64"
            ]
          },
          "metadata": {
            "tags": []
          },
          "execution_count": 12
        }
      ]
    },
    {
      "cell_type": "code",
      "metadata": {
        "id": "r8lcd59Sfcgt",
        "colab_type": "code",
        "colab": {
          "base_uri": "https://localhost:8080/",
          "height": 272
        },
        "outputId": "9c3d73d2-8e99-4bc7-d2c2-19ad3060ddd8"
      },
      "source": [
        "#Checking for the number of unique items in the columns.\n",
        "print(financial.nunique())"
      ],
      "execution_count": 13,
      "outputs": [
        {
          "output_type": "stream",
          "text": [
            "country                   4\n",
            "year                      6\n",
            "id                     8735\n",
            "bank_account_access       2\n",
            "location                  2\n",
            "cellphone_access          2\n",
            "household_size           21\n",
            "age                      85\n",
            "gender                    2\n",
            "rship_with_head           6\n",
            "marital_status            5\n",
            "education_level           7\n",
            "job                      10\n",
            "dtype: int64\n"
          ],
          "name": "stdout"
        }
      ]
    },
    {
      "cell_type": "code",
      "metadata": {
        "id": "GAs6Osz0gDNC",
        "colab_type": "code",
        "colab": {
          "base_uri": "https://localhost:8080/",
          "height": 72
        },
        "outputId": "e64ad34f-20fc-4be5-d037-b2ea7b9744c1"
      },
      "source": [
        "#Checking for types of education level.\n",
        "print(financial['education_level'].unique())"
      ],
      "execution_count": 14,
      "outputs": [
        {
          "output_type": "stream",
          "text": [
            "['Secondary education' 'No formal education'\n",
            " 'Vocational/Specialised training' 'Primary education'\n",
            " 'Tertiary education' 'Other/Dont know/RTA' '6' nan]\n"
          ],
          "name": "stdout"
        }
      ]
    },
    {
      "cell_type": "code",
      "metadata": {
        "id": "NoUYmHUwgM5J",
        "colab_type": "code",
        "colab": {
          "base_uri": "https://localhost:8080/",
          "height": 54
        },
        "outputId": "e3ffa07c-e431-482b-dc4c-4fceca65119b"
      },
      "source": [
        "#Checking  the types for relationship with the head of the household.\n",
        "print(financial['rship_with_head'].unique())"
      ],
      "execution_count": 15,
      "outputs": [
        {
          "output_type": "stream",
          "text": [
            "['Spouse' 'Head of Household' 'Other relative' 'Child' 'Parent'\n",
            " 'Other non-relatives' nan]\n"
          ],
          "name": "stdout"
        }
      ]
    },
    {
      "cell_type": "code",
      "metadata": {
        "id": "If6mTfUtgW3c",
        "colab_type": "code",
        "colab": {
          "base_uri": "https://localhost:8080/",
          "height": 90
        },
        "outputId": "709f35aa-3d5c-4c8c-f5a9-531bf5573a7e"
      },
      "source": [
        "#Checking te types for job.\n",
        "print(financial['job'].unique())"
      ],
      "execution_count": 16,
      "outputs": [
        {
          "output_type": "stream",
          "text": [
            "['Self employed' 'Government Dependent' 'Formally employed Private'\n",
            " 'Informally employed' 'Formally employed Government'\n",
            " 'Farming and Fishing' 'Remittance Dependent' 'Other Income'\n",
            " 'Dont Know/Refuse to answer' nan 'No Income']\n"
          ],
          "name": "stdout"
        }
      ]
    },
    {
      "cell_type": "code",
      "metadata": {
        "id": "IUK9a_D6GrdP",
        "colab_type": "code",
        "colab": {
          "base_uri": "https://localhost:8080/",
          "height": 54
        },
        "outputId": "c8ec4e36-4c1f-47cf-c1a2-bd86bed9c850"
      },
      "source": [
        "#Checking te types for job.\n",
        "print(financial['marital_status'].unique())"
      ],
      "execution_count": 17,
      "outputs": [
        {
          "output_type": "stream",
          "text": [
            "['Married/Living together' 'Widowed' 'Single/Never Married'\n",
            " 'Divorced/Seperated' 'Dont know' nan]\n"
          ],
          "name": "stdout"
        }
      ]
    },
    {
      "cell_type": "markdown",
      "metadata": {
        "id": "dwc7rNnPkxLJ",
        "colab_type": "text"
      },
      "source": [
        "## **Cleaning the Data**"
      ]
    },
    {
      "cell_type": "code",
      "metadata": {
        "id": "I_50HJj934i_",
        "colab_type": "code",
        "colab": {
          "base_uri": "https://localhost:8080/",
          "height": 322
        },
        "outputId": "24042a15-e331-4edc-c309-6874d697cd7b"
      },
      "source": [
        "#Removing the unique ID column\n",
        "financial = financial.drop(columns=['id'])\n",
        "financial.head()"
      ],
      "execution_count": 18,
      "outputs": [
        {
          "output_type": "execute_result",
          "data": {
            "text/html": [
              "<div>\n",
              "<style scoped>\n",
              "    .dataframe tbody tr th:only-of-type {\n",
              "        vertical-align: middle;\n",
              "    }\n",
              "\n",
              "    .dataframe tbody tr th {\n",
              "        vertical-align: top;\n",
              "    }\n",
              "\n",
              "    .dataframe thead th {\n",
              "        text-align: right;\n",
              "    }\n",
              "</style>\n",
              "<table border=\"1\" class=\"dataframe\">\n",
              "  <thead>\n",
              "    <tr style=\"text-align: right;\">\n",
              "      <th></th>\n",
              "      <th>country</th>\n",
              "      <th>year</th>\n",
              "      <th>bank_account_access</th>\n",
              "      <th>location</th>\n",
              "      <th>cellphone_access</th>\n",
              "      <th>household_size</th>\n",
              "      <th>age</th>\n",
              "      <th>gender</th>\n",
              "      <th>rship_with_head</th>\n",
              "      <th>marital_status</th>\n",
              "      <th>education_level</th>\n",
              "      <th>job</th>\n",
              "    </tr>\n",
              "  </thead>\n",
              "  <tbody>\n",
              "    <tr>\n",
              "      <th>0</th>\n",
              "      <td>Kenya</td>\n",
              "      <td>2018</td>\n",
              "      <td>Yes</td>\n",
              "      <td>Rural</td>\n",
              "      <td>Yes</td>\n",
              "      <td>3.0</td>\n",
              "      <td>24.0</td>\n",
              "      <td>Female</td>\n",
              "      <td>Spouse</td>\n",
              "      <td>Married/Living together</td>\n",
              "      <td>Secondary education</td>\n",
              "      <td>Self employed</td>\n",
              "    </tr>\n",
              "    <tr>\n",
              "      <th>1</th>\n",
              "      <td>Kenya</td>\n",
              "      <td>2018</td>\n",
              "      <td>No</td>\n",
              "      <td>Rural</td>\n",
              "      <td>No</td>\n",
              "      <td>5.0</td>\n",
              "      <td>70.0</td>\n",
              "      <td>Female</td>\n",
              "      <td>Head of Household</td>\n",
              "      <td>Widowed</td>\n",
              "      <td>No formal education</td>\n",
              "      <td>Government Dependent</td>\n",
              "    </tr>\n",
              "    <tr>\n",
              "      <th>2</th>\n",
              "      <td>Kenya</td>\n",
              "      <td>2018</td>\n",
              "      <td>Yes</td>\n",
              "      <td>Urban</td>\n",
              "      <td>Yes</td>\n",
              "      <td>5.0</td>\n",
              "      <td>26.0</td>\n",
              "      <td>Male</td>\n",
              "      <td>Other relative</td>\n",
              "      <td>Single/Never Married</td>\n",
              "      <td>Vocational/Specialised training</td>\n",
              "      <td>Self employed</td>\n",
              "    </tr>\n",
              "    <tr>\n",
              "      <th>3</th>\n",
              "      <td>Kenya</td>\n",
              "      <td>2018</td>\n",
              "      <td>No</td>\n",
              "      <td>Rural</td>\n",
              "      <td>Yes</td>\n",
              "      <td>5.0</td>\n",
              "      <td>34.0</td>\n",
              "      <td>Female</td>\n",
              "      <td>Head of Household</td>\n",
              "      <td>Married/Living together</td>\n",
              "      <td>Primary education</td>\n",
              "      <td>Formally employed Private</td>\n",
              "    </tr>\n",
              "    <tr>\n",
              "      <th>4</th>\n",
              "      <td>Kenya</td>\n",
              "      <td>2018</td>\n",
              "      <td>No</td>\n",
              "      <td>Urban</td>\n",
              "      <td>No</td>\n",
              "      <td>8.0</td>\n",
              "      <td>26.0</td>\n",
              "      <td>Male</td>\n",
              "      <td>Child</td>\n",
              "      <td>Single/Never Married</td>\n",
              "      <td>Primary education</td>\n",
              "      <td>Informally employed</td>\n",
              "    </tr>\n",
              "  </tbody>\n",
              "</table>\n",
              "</div>"
            ],
            "text/plain": [
              "  country  year  ...                  education_level                        job\n",
              "0   Kenya  2018  ...              Secondary education              Self employed\n",
              "1   Kenya  2018  ...              No formal education       Government Dependent\n",
              "2   Kenya  2018  ...  Vocational/Specialised training              Self employed\n",
              "3   Kenya  2018  ...                Primary education  Formally employed Private\n",
              "4   Kenya  2018  ...                Primary education        Informally employed\n",
              "\n",
              "[5 rows x 12 columns]"
            ]
          },
          "metadata": {
            "tags": []
          },
          "execution_count": 18
        }
      ]
    },
    {
      "cell_type": "code",
      "metadata": {
        "id": "l_1X8rZLzzRi",
        "colab_type": "code",
        "colab": {
          "base_uri": "https://localhost:8080/",
          "height": 35
        },
        "outputId": "90e1dc8e-b2ab-44d7-c06c-b6cd37641458"
      },
      "source": [
        "#Selecting the years that we need to remove the outliers.\n",
        "financial = financial.query(\"2018 >=year >= 2016\")\n",
        "financial.shape"
      ],
      "execution_count": 19,
      "outputs": [
        {
          "output_type": "execute_result",
          "data": {
            "text/plain": [
              "(23521, 12)"
            ]
          },
          "metadata": {
            "tags": []
          },
          "execution_count": 19
        }
      ]
    },
    {
      "cell_type": "code",
      "metadata": {
        "id": "rHtgC65wAzME",
        "colab_type": "code",
        "colab": {
          "base_uri": "https://localhost:8080/",
          "height": 35
        },
        "outputId": "26ca0f0a-459c-4d69-afe1-77abccd40166"
      },
      "source": [
        "#Dropping rows with null values in the specified rows.\n",
        "financial = financial.dropna(subset=['country','bank_account_access','location','cellphone_access','age','gender','marital_status','education_level','job'],how='any')\n",
        "financial.shape"
      ],
      "execution_count": 20,
      "outputs": [
        {
          "output_type": "execute_result",
          "data": {
            "text/plain": [
              "(23361, 12)"
            ]
          },
          "metadata": {
            "tags": []
          },
          "execution_count": 20
        }
      ]
    },
    {
      "cell_type": "markdown",
      "metadata": {
        "id": "_LKt4GQjlnhm",
        "colab_type": "text"
      },
      "source": [
        "We can see that after dropping the values in the columns of interest the number of rows decreases."
      ]
    },
    {
      "cell_type": "code",
      "metadata": {
        "id": "T9uvFcn556rK",
        "colab_type": "code",
        "colab": {
          "base_uri": "https://localhost:8080/",
          "height": 254
        },
        "outputId": "0e106b6c-8f6c-4e18-ac50-ffc55b525019"
      },
      "source": [
        "#Checking if there are any null values in our rows of interest.\n",
        "financial.isnull().sum()"
      ],
      "execution_count": 21,
      "outputs": [
        {
          "output_type": "execute_result",
          "data": {
            "text/plain": [
              "country                 0\n",
              "year                    0\n",
              "bank_account_access     0\n",
              "location                0\n",
              "cellphone_access        0\n",
              "household_size         21\n",
              "age                     0\n",
              "gender                  0\n",
              "rship_with_head         0\n",
              "marital_status          0\n",
              "education_level         0\n",
              "job                     0\n",
              "dtype: int64"
            ]
          },
          "metadata": {
            "tags": []
          },
          "execution_count": 21
        }
      ]
    },
    {
      "cell_type": "code",
      "metadata": {
        "id": "ogw-89Wo5xzD",
        "colab_type": "code",
        "colab": {
          "base_uri": "https://localhost:8080/",
          "height": 322
        },
        "outputId": "a128188b-17a3-44e5-d7c3-d4ec394ab509"
      },
      "source": [
        "#Changing the values for the respective columns into lowercase values.\n",
        "financial[\"country\"] = financial[\"country\"].str.lower()\n",
        "financial[\"location\"] = financial[\"location\"].str.lower()\n",
        "financial[\"bank_account_access\"] = financial[\"bank_account_access\"].str.lower()\n",
        "financial[\"cellphone_access\"] = financial[\"cellphone_access\"].str.lower()\n",
        "financial[\"gender\"] = financial[\"gender\"].str.lower()\n",
        "financial[\"rship_with_head\"] = financial[\"rship_with_head\"].str.lower()\n",
        "financial[\"marital_status\"] = financial[\"marital_status\"].str.lower()\n",
        "financial[\"education_level\"] = financial[\"education_level\"].str.lower()\n",
        "financial[\"job\"] = financial[\"job\"].str.lower()\n",
        "financial.head()"
      ],
      "execution_count": 35,
      "outputs": [
        {
          "output_type": "execute_result",
          "data": {
            "text/html": [
              "<div>\n",
              "<style scoped>\n",
              "    .dataframe tbody tr th:only-of-type {\n",
              "        vertical-align: middle;\n",
              "    }\n",
              "\n",
              "    .dataframe tbody tr th {\n",
              "        vertical-align: top;\n",
              "    }\n",
              "\n",
              "    .dataframe thead th {\n",
              "        text-align: right;\n",
              "    }\n",
              "</style>\n",
              "<table border=\"1\" class=\"dataframe\">\n",
              "  <thead>\n",
              "    <tr style=\"text-align: right;\">\n",
              "      <th></th>\n",
              "      <th>country</th>\n",
              "      <th>year</th>\n",
              "      <th>bank_account_access</th>\n",
              "      <th>location</th>\n",
              "      <th>cellphone_access</th>\n",
              "      <th>household_size</th>\n",
              "      <th>age</th>\n",
              "      <th>gender</th>\n",
              "      <th>rship_with_head</th>\n",
              "      <th>marital_status</th>\n",
              "      <th>education_level</th>\n",
              "      <th>job</th>\n",
              "    </tr>\n",
              "  </thead>\n",
              "  <tbody>\n",
              "    <tr>\n",
              "      <th>0</th>\n",
              "      <td>kenya</td>\n",
              "      <td>2018</td>\n",
              "      <td>yes</td>\n",
              "      <td>rural</td>\n",
              "      <td>yes</td>\n",
              "      <td>3.0</td>\n",
              "      <td>24.0</td>\n",
              "      <td>female</td>\n",
              "      <td>spouse</td>\n",
              "      <td>married/living together</td>\n",
              "      <td>secondary education</td>\n",
              "      <td>self employed</td>\n",
              "    </tr>\n",
              "    <tr>\n",
              "      <th>1</th>\n",
              "      <td>kenya</td>\n",
              "      <td>2018</td>\n",
              "      <td>no</td>\n",
              "      <td>rural</td>\n",
              "      <td>no</td>\n",
              "      <td>5.0</td>\n",
              "      <td>70.0</td>\n",
              "      <td>female</td>\n",
              "      <td>head of household</td>\n",
              "      <td>widowed</td>\n",
              "      <td>no formal education</td>\n",
              "      <td>government dependent</td>\n",
              "    </tr>\n",
              "    <tr>\n",
              "      <th>2</th>\n",
              "      <td>kenya</td>\n",
              "      <td>2018</td>\n",
              "      <td>yes</td>\n",
              "      <td>urban</td>\n",
              "      <td>yes</td>\n",
              "      <td>5.0</td>\n",
              "      <td>26.0</td>\n",
              "      <td>male</td>\n",
              "      <td>other relative</td>\n",
              "      <td>single/never married</td>\n",
              "      <td>vocational/specialised training</td>\n",
              "      <td>self employed</td>\n",
              "    </tr>\n",
              "    <tr>\n",
              "      <th>3</th>\n",
              "      <td>kenya</td>\n",
              "      <td>2018</td>\n",
              "      <td>no</td>\n",
              "      <td>rural</td>\n",
              "      <td>yes</td>\n",
              "      <td>5.0</td>\n",
              "      <td>34.0</td>\n",
              "      <td>female</td>\n",
              "      <td>head of household</td>\n",
              "      <td>married/living together</td>\n",
              "      <td>primary education</td>\n",
              "      <td>formally employed private</td>\n",
              "    </tr>\n",
              "    <tr>\n",
              "      <th>4</th>\n",
              "      <td>kenya</td>\n",
              "      <td>2018</td>\n",
              "      <td>no</td>\n",
              "      <td>urban</td>\n",
              "      <td>no</td>\n",
              "      <td>8.0</td>\n",
              "      <td>26.0</td>\n",
              "      <td>male</td>\n",
              "      <td>child</td>\n",
              "      <td>single/never married</td>\n",
              "      <td>primary education</td>\n",
              "      <td>informally employed</td>\n",
              "    </tr>\n",
              "  </tbody>\n",
              "</table>\n",
              "</div>"
            ],
            "text/plain": [
              "  country  year  ...                  education_level                        job\n",
              "0   kenya  2018  ...              secondary education              self employed\n",
              "1   kenya  2018  ...              no formal education       government dependent\n",
              "2   kenya  2018  ...  vocational/specialised training              self employed\n",
              "3   kenya  2018  ...                primary education  formally employed private\n",
              "4   kenya  2018  ...                primary education        informally employed\n",
              "\n",
              "[5 rows x 12 columns]"
            ]
          },
          "metadata": {
            "tags": []
          },
          "execution_count": 35
        }
      ]
    },
    {
      "cell_type": "markdown",
      "metadata": {
        "id": "nVuYJJwyUgJD",
        "colab_type": "text"
      },
      "source": [
        "#**Data Analysis**"
      ]
    },
    {
      "cell_type": "markdown",
      "metadata": {
        "id": "N1KithQJZTWM",
        "colab_type": "text"
      },
      "source": [
        "## **Splitting the data**"
      ]
    },
    {
      "cell_type": "code",
      "metadata": {
        "id": "UqKAS_ESZOjg",
        "colab_type": "code",
        "colab": {}
      },
      "source": [
        "#Dividing the data into financial years.\n",
        "financial_2016 = financial.query(\"year == 2016\")\n",
        "financial_2017 = financial.query(\"year == 2017\")\n",
        "financial_2018 = financial.query(\"year == 2018\")"
      ],
      "execution_count": 23,
      "outputs": []
    },
    {
      "cell_type": "code",
      "metadata": {
        "id": "y79XkHyqZRl2",
        "colab_type": "code",
        "colab": {}
      },
      "source": [
        "#Dividing the data into the respective country financials.\n",
        "financial_kenya = financial.loc[financial['country'] == 'kenya']\n",
        "financial_rwanda = financial.loc[financial['country'] == 'rwanda']\n",
        "financial_tanzania = financial.loc[financial['country'] == 'tanzania']\n",
        "financial_uganda = financial.loc[financial['country'] == 'uganda']"
      ],
      "execution_count": 24,
      "outputs": []
    },
    {
      "cell_type": "markdown",
      "metadata": {
        "id": "E6V4RlqdZlw2",
        "colab_type": "text"
      },
      "source": [
        "## **Univariate Analysis**"
      ]
    },
    {
      "cell_type": "markdown",
      "metadata": {
        "id": "YRVw3c6Vi9Qr",
        "colab_type": "text"
      },
      "source": [
        "***Distribution of Bank Account Access***"
      ]
    },
    {
      "cell_type": "code",
      "metadata": {
        "id": "4VBeAN-LZkv-",
        "colab_type": "code",
        "colab": {
          "base_uri": "https://localhost:8080/",
          "height": 295
        },
        "outputId": "6bc26f29-3868-4808-eeb9-c42a73a6ba53"
      },
      "source": [
        "financial['bank_account_access'].value_counts().plot.bar(title='Distribution of Bank account access')\n",
        "plt.xlabel('Bank account access')\n",
        "plt.ylabel('Count')\n",
        "plt.xticks(rotation = 0)\n",
        "plt.show()"
      ],
      "execution_count": 25,
      "outputs": [
        {
          "output_type": "display_data",
          "data": {
            "image/png": "[encoded data removed]",
            "text/plain": [
              "<Figure size 432x288 with 1 Axes>"
            ]
          },
          "metadata": {
            "tags": [],
            "needs_background": "light"
          }
        }
      ]
    },
    {
      "cell_type": "markdown",
      "metadata": {
        "id": "b5KNB5dwjWzk",
        "colab_type": "text"
      },
      "source": [
        "As seen above, the distribution shows that most of the people do not have access to bank accounts."
      ]
    },
    {
      "cell_type": "code",
      "metadata": {
        "id": "-a5l46BIk96D",
        "colab_type": "code",
        "colab": {}
      },
      "source": [
        "#Splitting the data into two groups of people with access to bank accounts and those without.\n",
        "financial_yes_bank = financial.loc[financial['bank_account_access'] == 'yes']\n",
        "financial_no_bank = financial.loc[financial['bank_account_access'] == 'no']"
      ],
      "execution_count": 27,
      "outputs": []
    },
    {
      "cell_type": "markdown",
      "metadata": {
        "id": "95MQvQ2mjmBZ",
        "colab_type": "text"
      },
      "source": [
        "***Distribution of Cell Phone Access***"
      ]
    },
    {
      "cell_type": "code",
      "metadata": {
        "id": "btulpF07jUvx",
        "colab_type": "code",
        "colab": {
          "base_uri": "https://localhost:8080/",
          "height": 295
        },
        "outputId": "3e5f02c1-f610-42b9-d270-74c9b6abc61c"
      },
      "source": [
        "financial['cellphone_access'].value_counts().plot.bar(title='Distribution of Cell Phone access')\n",
        "plt.xlabel('Cell Phone access')\n",
        "plt.ylabel('Count')\n",
        "plt.xticks(rotation = 0)\n",
        "plt.show()"
      ],
      "execution_count": 28,
      "outputs": [
        {
          "output_type": "display_data",
          "data": {
            "image/png": "[encoded data removed]",
            "text/plain": [
              "<Figure size 432x288 with 1 Axes>"
            ]
          },
          "metadata": {
            "tags": [],
            "needs_background": "light"
          }
        }
      ]
    },
    {
      "cell_type": "markdown",
      "metadata": {
        "id": "F4hxDjZRj670",
        "colab_type": "text"
      },
      "source": [
        "This shows that most people have access to cell phones."
      ]
    },
    {
      "cell_type": "markdown",
      "metadata": {
        "id": "yotCoWSCZsiH",
        "colab_type": "text"
      },
      "source": [
        "## **Bivariate Analysis**"
      ]
    },
    {
      "cell_type": "markdown",
      "metadata": {
        "id": "-b3jPfaIJJzJ",
        "colab_type": "text"
      },
      "source": [
        "*Creating x axis for various fields.*"
      ]
    },
    {
      "cell_type": "code",
      "metadata": {
        "colab_type": "code",
        "id": "2LSJytSvrrli",
        "colab": {}
      },
      "source": [
        "x= ['yes','no']\n",
        "x_cou = financial['country'].unique()\n",
        "x_loc = financial['location'].unique()\n",
        "x_edu = financial['education_level'].unique()\n",
        "x_job = financial['job'].unique()\n",
        "x_age = financial['age'].unique()\n",
        "x_mar = financial['marital_status'].unique()"
      ],
      "execution_count": 64,
      "outputs": []
    },
    {
      "cell_type": "code",
      "metadata": {
        "id": "Osbu9NfR7b81",
        "colab_type": "code",
        "colab": {
          "base_uri": "https://localhost:8080/",
          "height": 283
        },
        "outputId": "39760858-ff2d-4122-91f1-b72ca5a0e654"
      },
      "source": [
        "baa = financial['bank_account_access'].value_counts()\n",
        "ca = financial['cellphone_access'].value_counts()\n",
        "barWidth = 0.7\n",
        "plt.bar(x, baa, color='cornflowerblue', edgecolor='white', width=barWidth)\n",
        "plt.bar(x, ca, bottom=baa, color='#557f2d', edgecolor='white', width=barWidth)\n",
        "plt.legend()\n",
        "plt.show()"
      ],
      "execution_count": 186,
      "outputs": [
        {
          "output_type": "stream",
          "text": [
            "No handles with labels found to put in legend.\n"
          ],
          "name": "stderr"
        },
        {
          "output_type": "display_data",
          "data": {
            "image/png": "[encoded data removed]",
            "text/plain": [
              "<Figure size 432x288 with 1 Axes>"
            ]
          },
          "metadata": {
            "tags": [],
            "needs_background": "light"
          }
        }
      ]
    },
    {
      "cell_type": "code",
      "metadata": {
        "colab_type": "code",
        "id": "d3WZzeNvrrlr",
        "colab": {
          "base_uri": "https://localhost:8080/",
          "height": 265
        },
        "outputId": "b7c65af5-1ec7-42d8-c3c6-e7a281c5f243"
      },
      "source": [
        "loca = financial['location'].value_counts()\n",
        "barWidth = 0.7\n",
        "plt.bar(x_loc, baa, color='cornflowerblue', width=barWidth)\n",
        "plt.bar(x_loc, loca, bottom=baa, color='#557f2d', width=barWidth)\n",
        "plt.show()"
      ],
      "execution_count": 198,
      "outputs": [
        {
          "output_type": "display_data",
          "data": {
            "image/png": "[encoded data removed]",
            "text/plain": [
              "<Figure size 432x288 with 1 Axes>"
            ]
          },
          "metadata": {
            "tags": [],
            "needs_background": "light"
          }
        }
      ]
    },
    {
      "cell_type": "code",
      "metadata": {
        "id": "ALBDZe9EHiqJ",
        "colab_type": "code",
        "colab": {
          "base_uri": "https://localhost:8080/",
          "height": 369
        },
        "outputId": "b0329bd2-9749-456a-e25e-a71b76e17af5"
      },
      "source": [
        "sns.lmplot( x=\"age\", y=\"bank_account_access\", data=financial, fit_reg=False, legend=False)\n",
        "plt.show()"
      ],
      "execution_count": 207,
      "outputs": [
        {
          "output_type": "display_data",
          "data": {
            "image/png": "[encoded data removed]",
            "text/plain": [
              "<Figure size 360x360 with 1 Axes>"
            ]
          },
          "metadata": {
            "tags": [],
            "needs_background": "light"
          }
        }
      ]
    },
    {
      "cell_type": "markdown",
      "metadata": {
        "id": "iyYed1M-Jpw9",
        "colab_type": "text"
      },
      "source": [
        "We can see here that there is a type of relation between the age and the household size."
      ]
    },
    {
      "cell_type": "code",
      "metadata": {
        "id": "hFvesdDiY7ys",
        "colab_type": "code",
        "colab": {
          "base_uri": "https://localhost:8080/",
          "height": 295
        },
        "outputId": "d5410fb9-f6b3-4747-da38-24ec54a59a76"
      },
      "source": [
        "financial_yes_bank['cellphone_access'].value_counts().plot.bar(title='Distribution of Cell Phone access in Bank Access.')\n",
        "plt.xlabel('Cell Phone access')\n",
        "plt.ylabel('Count')\n",
        "plt.xticks(rotation = 0)\n",
        "plt.show()"
      ],
      "execution_count": 44,
      "outputs": [
        {
          "output_type": "display_data",
          "data": {
            "image/png": "[encoded data removed]",
            "text/plain": [
              "<Figure size 432x288 with 1 Axes>"
            ]
          },
          "metadata": {
            "tags": [],
            "needs_background": "light"
          }
        }
      ]
    },
    {
      "cell_type": "markdown",
      "metadata": {
        "id": "z-_fFtOpZK2Q",
        "colab_type": "text"
      },
      "source": [
        "Here, we can see that most people with bank access have cell phone access."
      ]
    },
    {
      "cell_type": "code",
      "metadata": {
        "id": "bO_4IP3CZRx9",
        "colab_type": "code",
        "colab": {
          "base_uri": "https://localhost:8080/",
          "height": 279
        },
        "outputId": "b4a03ff7-0a3b-469a-c869-f13c096aa5de"
      },
      "source": [
        "h=financial_yes_bank['age'].value_counts()\n",
        "i=financial_yes_bank['age'].unique()\n",
        "plt.bar(h,i)\n",
        "plt.xlabel('Age')\n",
        "plt.ylabel('Count')\n",
        "plt.xticks(rotation = 0)\n",
        "plt.show()"
      ],
      "execution_count": 57,
      "outputs": [
        {
          "output_type": "display_data",
          "data": {
            "image/png": "[encoded data removed]",
            "text/plain": [
              "<Figure size 432x288 with 1 Axes>"
            ]
          },
          "metadata": {
            "tags": [],
            "needs_background": "light"
          }
        }
      ]
    },
    {
      "cell_type": "markdown",
      "metadata": {
        "id": "ZTW1BqHzaaLv",
        "colab_type": "text"
      },
      "source": [
        "This graph show that age doesn't have a specific pattern with people having bank access."
      ]
    },
    {
      "cell_type": "code",
      "metadata": {
        "id": "gcsXvq4la_hn",
        "colab_type": "code",
        "colab": {
          "base_uri": "https://localhost:8080/",
          "height": 427
        },
        "outputId": "bba8f04c-e0ef-4a40-ef6a-8dae6e58ef0f"
      },
      "source": [
        "j = financial_yes_bank['job'].value_counts()\n",
        "plt.bar(x_job,j)\n",
        "plt.xlabel('Job')\n",
        "plt.ylabel('Count')\n",
        "plt.xticks(rotation = 90)\n",
        "plt.show()"
      ],
      "execution_count": 63,
      "outputs": [
        {
          "output_type": "display_data",
          "data": {
            "image/png": "[encoded data removed]",
            "text/plain": [
              "<Figure size 432x288 with 1 Axes>"
            ]
          },
          "metadata": {
            "tags": [],
            "needs_background": "light"
          }
        }
      ]
    },
    {
      "cell_type": "code",
      "metadata": {
        "id": "SOx8aUWAcjz5",
        "colab_type": "code",
        "colab": {
          "base_uri": "https://localhost:8080/",
          "height": 385
        },
        "outputId": "15565b0c-f842-460b-f82c-09ed94a14045"
      },
      "source": [
        "m = financial_yes_bank['marital_status'].value_counts()\n",
        "plt.bar(x_mar,m)\n",
        "plt.xlabel('Marital Status')\n",
        "plt.ylabel('Count')\n",
        "plt.xticks(rotation = 90)\n",
        "plt.show()"
      ],
      "execution_count": 65,
      "outputs": [
        {
          "output_type": "display_data",
          "data": {
            "image/png": "[encoded data removed]",
            "text/plain": [
              "<Figure size 432x288 with 1 Axes>"
            ]
          },
          "metadata": {
            "tags": [],
            "needs_background": "light"
          }
        }
      ]
    },
    {
      "cell_type": "markdown",
      "metadata": {
        "id": "Dyw4dKy0Zyd7",
        "colab_type": "text"
      },
      "source": [
        "## **Multivariate Analysis**"
      ]
    },
    {
      "cell_type": "markdown",
      "metadata": {
        "id": "XeqhyvkyP07j",
        "colab_type": "text"
      },
      "source": [
        "Installation of the factor analyzer and importing the libraries not available."
      ]
    },
    {
      "cell_type": "code",
      "metadata": {
        "id": "nEjwcmtWPPta",
        "colab_type": "code",
        "colab": {
          "base_uri": "https://localhost:8080/",
          "height": 165
        },
        "outputId": "760aa464-f8b5-4547-dfd6-b842505490d8"
      },
      "source": [
        "!pip install factor_analyzer==0.2.3\n"
      ],
      "execution_count": 37,
      "outputs": [
        {
          "output_type": "stream",
          "text": [
            "Requirement already satisfied: factor_analyzer==0.2.3 in /usr/local/lib/python3.6/dist-packages (0.2.3)\n",
            "Requirement already satisfied: scipy in /usr/local/lib/python3.6/dist-packages (from factor_analyzer==0.2.3) (1.4.1)\n",
            "Requirement already satisfied: numpy in /usr/local/lib/python3.6/dist-packages (from factor_analyzer==0.2.3) (1.18.5)\n",
            "Requirement already satisfied: pandas in /usr/local/lib/python3.6/dist-packages (from factor_analyzer==0.2.3) (1.0.5)\n",
            "Requirement already satisfied: pytz>=2017.2 in /usr/local/lib/python3.6/dist-packages (from pandas->factor_analyzer==0.2.3) (2018.9)\n",
            "Requirement already satisfied: python-dateutil>=2.6.1 in /usr/local/lib/python3.6/dist-packages (from pandas->factor_analyzer==0.2.3) (2.8.1)\n",
            "Requirement already satisfied: six>=1.5 in /usr/local/lib/python3.6/dist-packages (from python-dateutil>=2.6.1->pandas->factor_analyzer==0.2.3) (1.15.0)\n"
          ],
          "name": "stdout"
        }
      ]
    },
    {
      "cell_type": "code",
      "metadata": {
        "id": "7KM8KRFMQExr",
        "colab_type": "code",
        "colab": {}
      },
      "source": [
        "from sklearn.datasets import load_iris\n",
        "from factor_analyzer import FactorAnalyzer"
      ],
      "execution_count": 38,
      "outputs": []
    },
    {
      "cell_type": "code",
      "metadata": {
        "id": "8twfvAbvPu4V",
        "colab_type": "code",
        "colab": {
          "base_uri": "https://localhost:8080/",
          "height": 35
        },
        "outputId": "ed0e7733-cd95-4ebb-e858-c8e0010a918e"
      },
      "source": [
        "from factor_analyzer.factor_analyzer import calculate_bartlett_sphericity\n",
        "chi_square_value,p_value=calculate_bartlett_sphericity(financial)\n",
        "chi_square_value, p_value"
      ],
      "execution_count": 40,
      "outputs": [
        {
          "output_type": "execute_result",
          "data": {
            "text/plain": [
              "(416.29750911895206, 1.1719386311942493e-52)"
            ]
          },
          "metadata": {
            "tags": []
          },
          "execution_count": 40
        }
      ]
    },
    {
      "cell_type": "markdown",
      "metadata": {
        "id": "R_W5wcCuWrIi",
        "colab_type": "text"
      },
      "source": [
        "Our p value is statistically 0 when rounded off. We can thus say that the test is significant."
      ]
    },
    {
      "cell_type": "markdown",
      "metadata": {
        "id": "O5cTDpiPkw87",
        "colab_type": "text"
      },
      "source": [
        "# **Conclusion**"
      ]
    },
    {
      "cell_type": "markdown",
      "metadata": {
        "id": "Dy-FlBduVs7G",
        "colab_type": "text"
      },
      "source": [
        "*  A huge percentage of people that have cell phone access have bank account access.\n",
        "*  Age doesn't have a relation with bank access\n",
        "*  Most people who are self employed are the ones who have bank account access.\n",
        "*  Persons that are married or living together have the highest ranking in bank account access."
      ]
    }
  ]
}