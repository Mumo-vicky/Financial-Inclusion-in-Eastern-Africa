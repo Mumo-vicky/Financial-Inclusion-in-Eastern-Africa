{
  "nbformat": 4,
  "nbformat_minor": 0,
  "metadata": {
    "colab": {
      "name": "Financial Inclusion in Eastern Africa.ipynb",
      "provenance": [],
      "collapsed_sections": [],
      "authorship_tag": "ABX9TyNN8kch1d1a8Q66x8SvoarR",
      "include_colab_link": true
    },
    "kernelspec": {
      "name": "python3",
      "display_name": "Python 3"
    }
  },
  "cells": [
    {
      "cell_type": "markdown",
      "metadata": {
        "id": "view-in-github",
        "colab_type": "text"
      },
      "source": [
        "<a href=\"https://colab.research.google.com/github/Mumo-vicky/Financial-Inclusion-in-Eastern-Africa/blob/master/Financial_Inclusion_in_Eastern_Africa.ipynb\" target=\"_parent\"><img src=\"https://colab.research.google.com/assets/colab-badge.svg\" alt=\"Open In Colab\"/></a>"
      ]
    },
    {
      "cell_type": "markdown",
      "metadata": {
        "id": "uvT6yAStH2W_",
        "colab_type": "text"
      },
      "source": [
        "# **Business Understanding**"
      ]
    },
    {
      "cell_type": "markdown",
      "metadata": {
        "id": "n9syul7jIIWV",
        "colab_type": "text"
      },
      "source": [
        "\n",
        "> Financial inclusion is one of the many obstacles for economic and human development in Africa. Access to bank accounts in the continent has een regarded as an indicator to show financial inclusion. It enables families to save and facilitate payments for various bills. It has also helped in growing businesses' credit-worthiness and also improve their access to other useful financial resources. We can thus say that access to bank accounts is an essential contributor to economic growth.\n",
        "\n",
        "> I have been tasked with the work of figuring out how we can predict the individuals most likely to have or use a bank account. The countries of interest are Kenya, Tanzania, Uganda and Rwanda within 2016 through to 2018.\n",
        "\n",
        "> The solution is suppossed to proide an insight of the financial inclusion in the countries and also provide demographic factors that contribute to the economic growth in the coutries or rather the financial outcomes of the individuals."
      ]
    },
    {
      "cell_type": "markdown",
      "metadata": {
        "id": "f0T2NSCoICyx",
        "colab_type": "text"
      },
      "source": [
        "# **Data Understanding**"
      ]
    },
    {
      "cell_type": "markdown",
      "metadata": {
        "id": "GGS_lHxnsumC",
        "colab_type": "text"
      },
      "source": [
        "## **Data Explanation**"
      ]
    },
    {
      "cell_type": "markdown",
      "metadata": {
        "id": "9eWQxhQFIXHo",
        "colab_type": "text"
      },
      "source": [
        "\n",
        "> I have been provided with a dataset that is going to help me in my analysis for the required information. The dataset contains various field with various data types. These include:\n",
        "\n",
        "*   Country\n",
        "*   Year\n",
        "*   Unique Identifier\n",
        "*   Bank Account Access\n",
        "*   Location\n",
        "*   Cell-Phone Access.\n",
        "*   Household Size.\n",
        "*   Respondent's Age\n",
        "*   Relationship with the head of the household.\n",
        "*   Marital Status\n",
        "*   Level of Education\n",
        "*   Type of Job\n",
        "\n",
        ">  The various fields should help me derive insights for the analysis I am going to do."
      ]
    },
    {
      "cell_type": "markdown",
      "metadata": {
        "id": "QiY3Qrt7T1t_",
        "colab_type": "text"
      },
      "source": [
        "## **Formulating the Question**"
      ]
    },
    {
      "cell_type": "markdown",
      "metadata": {
        "id": "6wEkIPKlUAz2",
        "colab_type": "text"
      },
      "source": [
        "What group of people in the countries have the highest access to bank accounts?"
      ]
    },
    {
      "cell_type": "markdown",
      "metadata": {
        "id": "p_rmbXPtksL1",
        "colab_type": "text"
      },
      "source": [
        "## **The Metric For Success**"
      ]
    },
    {
      "cell_type": "markdown",
      "metadata": {
        "id": "UDsjj6DTldkM",
        "colab_type": "text"
      },
      "source": [
        "Finding the group of people with the highest access to bank account."
      ]
    },
    {
      "cell_type": "markdown",
      "metadata": {
        "id": "ZmOfUeAZIu51",
        "colab_type": "text"
      },
      "source": [
        "# **Data Exploration**"
      ]
    },
    {
      "cell_type": "markdown",
      "metadata": {
        "id": "wvXhZxpMtMov",
        "colab_type": "text"
      },
      "source": [
        "## **Loading our Environment.**"
      ]
    },
    {
      "cell_type": "code",
      "metadata": {
        "id": "Fyo2Z--9tMTT",
        "colab_type": "code",
        "colab": {}
      },
      "source": [
        "# Importing Numpy\n",
        "import numpy as np\n",
        "\n",
        "# Importing Pandas\n",
        "import pandas as pd\n",
        "\n",
        "# Importing Matplotlib\n",
        "import matplotlib.pyplot as plt\n",
        "\n",
        "# Importing Seaborn\n",
        "import seaborn as sns"
      ],
      "execution_count": 2,
      "outputs": []
    },
    {
      "cell_type": "markdown",
      "metadata": {
        "id": "lxwQFyVhkvxC",
        "colab_type": "text"
      },
      "source": [
        "## **Reading in the Data**"
      ]
    },
    {
      "cell_type": "code",
      "metadata": {
        "id": "CK5owipskwVz",
        "colab_type": "code",
        "colab": {}
      },
      "source": [
        "financial = pd.read_csv('Financial Dataset - 1.csv')"
      ],
      "execution_count": 45,
      "outputs": []
    },
    {
      "cell_type": "code",
      "metadata": {
        "id": "eiWe5A1708R1",
        "colab_type": "code",
        "colab": {}
      },
      "source": [
        "#Changing the column names for easier referral\n",
        "financial = financial.rename(columns={\"uniqueid\": \"id\", \"Has a Bank account\": \"bank_account_access\", \"Type of Location\": \"location\", \"Cell Phone Access\": \"cellphone_access\", \"Respondent Age\": \"age\", \"gender_of_respondent\": \"gender\", \"The relathip with head\": \"rship_with_head\", \"Level of Educuation\": \"education_level\", \"Type of Job\": \"job\"})"
      ],
      "execution_count": 46,
      "outputs": []
    },
    {
      "cell_type": "markdown",
      "metadata": {
        "id": "vlDG2XmYkxV4",
        "colab_type": "text"
      },
      "source": [
        "## **Exploring the Data**"
      ]
    },
    {
      "cell_type": "code",
      "metadata": {
        "id": "liRp-q6IxpIv",
        "colab_type": "code",
        "colab": {
          "base_uri": "https://localhost:8080/",
          "height": 322
        },
        "outputId": "7279254f-a1e9-4b0c-923e-a025c413ecd9"
      },
      "source": [
        "#Viewing the top of the dataset\n",
        "financial.head()"
      ],
      "execution_count": 47,
      "outputs": [
        {
          "output_type": "execute_result",
          "data": {
            "text/html": [
              "<div>\n",
              "<style scoped>\n",
              "    .dataframe tbody tr th:only-of-type {\n",
              "        vertical-align: middle;\n",
              "    }\n",
              "\n",
              "    .dataframe tbody tr th {\n",
              "        vertical-align: top;\n",
              "    }\n",
              "\n",
              "    .dataframe thead th {\n",
              "        text-align: right;\n",
              "    }\n",
              "</style>\n",
              "<table border=\"1\" class=\"dataframe\">\n",
              "  <thead>\n",
              "    <tr style=\"text-align: right;\">\n",
              "      <th></th>\n",
              "      <th>country</th>\n",
              "      <th>year</th>\n",
              "      <th>id</th>\n",
              "      <th>bank_account_access</th>\n",
              "      <th>location</th>\n",
              "      <th>cellphone_access</th>\n",
              "      <th>household_size</th>\n",
              "      <th>age</th>\n",
              "      <th>gender</th>\n",
              "      <th>rship_with_head</th>\n",
              "      <th>marital_status</th>\n",
              "      <th>education_level</th>\n",
              "      <th>job</th>\n",
              "    </tr>\n",
              "  </thead>\n",
              "  <tbody>\n",
              "    <tr>\n",
              "      <th>0</th>\n",
              "      <td>Kenya</td>\n",
              "      <td>2018</td>\n",
              "      <td>uniqueid_1</td>\n",
              "      <td>Yes</td>\n",
              "      <td>Rural</td>\n",
              "      <td>Yes</td>\n",
              "      <td>3.0</td>\n",
              "      <td>24.0</td>\n",
              "      <td>Female</td>\n",
              "      <td>Spouse</td>\n",
              "      <td>Married/Living together</td>\n",
              "      <td>Secondary education</td>\n",
              "      <td>Self employed</td>\n",
              "    </tr>\n",
              "    <tr>\n",
              "      <th>1</th>\n",
              "      <td>Kenya</td>\n",
              "      <td>2018</td>\n",
              "      <td>uniqueid_2</td>\n",
              "      <td>No</td>\n",
              "      <td>Rural</td>\n",
              "      <td>No</td>\n",
              "      <td>5.0</td>\n",
              "      <td>70.0</td>\n",
              "      <td>Female</td>\n",
              "      <td>Head of Household</td>\n",
              "      <td>Widowed</td>\n",
              "      <td>No formal education</td>\n",
              "      <td>Government Dependent</td>\n",
              "    </tr>\n",
              "    <tr>\n",
              "      <th>2</th>\n",
              "      <td>Kenya</td>\n",
              "      <td>2018</td>\n",
              "      <td>uniqueid_3</td>\n",
              "      <td>Yes</td>\n",
              "      <td>Urban</td>\n",
              "      <td>Yes</td>\n",
              "      <td>5.0</td>\n",
              "      <td>26.0</td>\n",
              "      <td>Male</td>\n",
              "      <td>Other relative</td>\n",
              "      <td>Single/Never Married</td>\n",
              "      <td>Vocational/Specialised training</td>\n",
              "      <td>Self employed</td>\n",
              "    </tr>\n",
              "    <tr>\n",
              "      <th>3</th>\n",
              "      <td>Kenya</td>\n",
              "      <td>2018</td>\n",
              "      <td>uniqueid_4</td>\n",
              "      <td>No</td>\n",
              "      <td>Rural</td>\n",
              "      <td>Yes</td>\n",
              "      <td>5.0</td>\n",
              "      <td>34.0</td>\n",
              "      <td>Female</td>\n",
              "      <td>Head of Household</td>\n",
              "      <td>Married/Living together</td>\n",
              "      <td>Primary education</td>\n",
              "      <td>Formally employed Private</td>\n",
              "    </tr>\n",
              "    <tr>\n",
              "      <th>4</th>\n",
              "      <td>Kenya</td>\n",
              "      <td>2018</td>\n",
              "      <td>uniqueid_5</td>\n",
              "      <td>No</td>\n",
              "      <td>Urban</td>\n",
              "      <td>No</td>\n",
              "      <td>8.0</td>\n",
              "      <td>26.0</td>\n",
              "      <td>Male</td>\n",
              "      <td>Child</td>\n",
              "      <td>Single/Never Married</td>\n",
              "      <td>Primary education</td>\n",
              "      <td>Informally employed</td>\n",
              "    </tr>\n",
              "  </tbody>\n",
              "</table>\n",
              "</div>"
            ],
            "text/plain": [
              "  country  year  ...                  education_level                        job\n",
              "0   Kenya  2018  ...              Secondary education              Self employed\n",
              "1   Kenya  2018  ...              No formal education       Government Dependent\n",
              "2   Kenya  2018  ...  Vocational/Specialised training              Self employed\n",
              "3   Kenya  2018  ...                Primary education  Formally employed Private\n",
              "4   Kenya  2018  ...                Primary education        Informally employed\n",
              "\n",
              "[5 rows x 13 columns]"
            ]
          },
          "metadata": {
            "tags": []
          },
          "execution_count": 47
        }
      ]
    },
    {
      "cell_type": "code",
      "metadata": {
        "id": "5hhF3Z3axzqx",
        "colab_type": "code",
        "colab": {
          "base_uri": "https://localhost:8080/",
          "height": 305
        },
        "outputId": "3f6ccddf-86d9-4342-891a-724bc3fb72fe"
      },
      "source": [
        "#Viewing the bottom of the dataset\n",
        "financial.tail()"
      ],
      "execution_count": 48,
      "outputs": [
        {
          "output_type": "execute_result",
          "data": {
            "text/html": [
              "<div>\n",
              "<style scoped>\n",
              "    .dataframe tbody tr th:only-of-type {\n",
              "        vertical-align: middle;\n",
              "    }\n",
              "\n",
              "    .dataframe tbody tr th {\n",
              "        vertical-align: top;\n",
              "    }\n",
              "\n",
              "    .dataframe thead th {\n",
              "        text-align: right;\n",
              "    }\n",
              "</style>\n",
              "<table border=\"1\" class=\"dataframe\">\n",
              "  <thead>\n",
              "    <tr style=\"text-align: right;\">\n",
              "      <th></th>\n",
              "      <th>country</th>\n",
              "      <th>year</th>\n",
              "      <th>id</th>\n",
              "      <th>bank_account_access</th>\n",
              "      <th>location</th>\n",
              "      <th>cellphone_access</th>\n",
              "      <th>household_size</th>\n",
              "      <th>age</th>\n",
              "      <th>gender</th>\n",
              "      <th>rship_with_head</th>\n",
              "      <th>marital_status</th>\n",
              "      <th>education_level</th>\n",
              "      <th>job</th>\n",
              "    </tr>\n",
              "  </thead>\n",
              "  <tbody>\n",
              "    <tr>\n",
              "      <th>23519</th>\n",
              "      <td>Uganda</td>\n",
              "      <td>2018</td>\n",
              "      <td>uniqueid_2113</td>\n",
              "      <td>No</td>\n",
              "      <td>Rural</td>\n",
              "      <td>Yes</td>\n",
              "      <td>4.0</td>\n",
              "      <td>48.0</td>\n",
              "      <td>Female</td>\n",
              "      <td>Head of Household</td>\n",
              "      <td>Divorced/Seperated</td>\n",
              "      <td>No formal education</td>\n",
              "      <td>Other Income</td>\n",
              "    </tr>\n",
              "    <tr>\n",
              "      <th>23520</th>\n",
              "      <td>Uganda</td>\n",
              "      <td>2018</td>\n",
              "      <td>uniqueid_2114</td>\n",
              "      <td>No</td>\n",
              "      <td>Rural</td>\n",
              "      <td>Yes</td>\n",
              "      <td>2.0</td>\n",
              "      <td>27.0</td>\n",
              "      <td>Female</td>\n",
              "      <td>Head of Household</td>\n",
              "      <td>Single/Never Married</td>\n",
              "      <td>Secondary education</td>\n",
              "      <td>Other Income</td>\n",
              "    </tr>\n",
              "    <tr>\n",
              "      <th>23521</th>\n",
              "      <td>Uganda</td>\n",
              "      <td>2018</td>\n",
              "      <td>uniqueid_2115</td>\n",
              "      <td>No</td>\n",
              "      <td>Rural</td>\n",
              "      <td>Yes</td>\n",
              "      <td>5.0</td>\n",
              "      <td>27.0</td>\n",
              "      <td>Female</td>\n",
              "      <td>Parent</td>\n",
              "      <td>Widowed</td>\n",
              "      <td>Primary education</td>\n",
              "      <td>Other Income</td>\n",
              "    </tr>\n",
              "    <tr>\n",
              "      <th>23522</th>\n",
              "      <td>Uganda</td>\n",
              "      <td>2018</td>\n",
              "      <td>uniqueid_2116</td>\n",
              "      <td>No</td>\n",
              "      <td>Urban</td>\n",
              "      <td>Yes</td>\n",
              "      <td>7.0</td>\n",
              "      <td>30.0</td>\n",
              "      <td>Female</td>\n",
              "      <td>Parent</td>\n",
              "      <td>Divorced/Seperated</td>\n",
              "      <td>Secondary education</td>\n",
              "      <td>Self employed</td>\n",
              "    </tr>\n",
              "    <tr>\n",
              "      <th>23523</th>\n",
              "      <td>Uganda</td>\n",
              "      <td>2018</td>\n",
              "      <td>uniqueid_2117</td>\n",
              "      <td>No</td>\n",
              "      <td>Rural</td>\n",
              "      <td>Yes</td>\n",
              "      <td>10.0</td>\n",
              "      <td>20.0</td>\n",
              "      <td>Male</td>\n",
              "      <td>Child</td>\n",
              "      <td>Single/Never Married</td>\n",
              "      <td>Secondary education</td>\n",
              "      <td>No Income</td>\n",
              "    </tr>\n",
              "  </tbody>\n",
              "</table>\n",
              "</div>"
            ],
            "text/plain": [
              "      country  year  ...      education_level            job\n",
              "23519  Uganda  2018  ...  No formal education   Other Income\n",
              "23520  Uganda  2018  ...  Secondary education   Other Income\n",
              "23521  Uganda  2018  ...    Primary education   Other Income\n",
              "23522  Uganda  2018  ...  Secondary education  Self employed\n",
              "23523  Uganda  2018  ...  Secondary education      No Income\n",
              "\n",
              "[5 rows x 13 columns]"
            ]
          },
          "metadata": {
            "tags": []
          },
          "execution_count": 48
        }
      ]
    },
    {
      "cell_type": "code",
      "metadata": {
        "id": "YcTv5LDD_Enl",
        "colab_type": "code",
        "colab": {
          "base_uri": "https://localhost:8080/",
          "height": 35
        },
        "outputId": "3bc5ce0d-5a0b-413f-86b5-0fcc90e0ecb3"
      },
      "source": [
        "#Checking the number of rows and columns\n",
        "financial.shape"
      ],
      "execution_count": 49,
      "outputs": [
        {
          "output_type": "execute_result",
          "data": {
            "text/plain": [
              "(23524, 13)"
            ]
          },
          "metadata": {
            "tags": []
          },
          "execution_count": 49
        }
      ]
    },
    {
      "cell_type": "code",
      "metadata": {
        "id": "B7XpMumZyGDj",
        "colab_type": "code",
        "colab": {
          "base_uri": "https://localhost:8080/",
          "height": 288
        },
        "outputId": "85fc0765-fb66-4d0e-ce7e-4ee22d8a73d2"
      },
      "source": [
        "#Describing the numerical aspects of the dataset\n",
        "financial.describe()"
      ],
      "execution_count": 50,
      "outputs": [
        {
          "output_type": "execute_result",
          "data": {
            "text/html": [
              "<div>\n",
              "<style scoped>\n",
              "    .dataframe tbody tr th:only-of-type {\n",
              "        vertical-align: middle;\n",
              "    }\n",
              "\n",
              "    .dataframe tbody tr th {\n",
              "        vertical-align: top;\n",
              "    }\n",
              "\n",
              "    .dataframe thead th {\n",
              "        text-align: right;\n",
              "    }\n",
              "</style>\n",
              "<table border=\"1\" class=\"dataframe\">\n",
              "  <thead>\n",
              "    <tr style=\"text-align: right;\">\n",
              "      <th></th>\n",
              "      <th>year</th>\n",
              "      <th>household_size</th>\n",
              "      <th>age</th>\n",
              "    </tr>\n",
              "  </thead>\n",
              "  <tbody>\n",
              "    <tr>\n",
              "      <th>count</th>\n",
              "      <td>23524.000000</td>\n",
              "      <td>23496.000000</td>\n",
              "      <td>23490.000000</td>\n",
              "    </tr>\n",
              "    <tr>\n",
              "      <th>mean</th>\n",
              "      <td>2016.979000</td>\n",
              "      <td>3.681818</td>\n",
              "      <td>38.804300</td>\n",
              "    </tr>\n",
              "    <tr>\n",
              "      <th>std</th>\n",
              "      <td>0.899669</td>\n",
              "      <td>2.279933</td>\n",
              "      <td>16.519996</td>\n",
              "    </tr>\n",
              "    <tr>\n",
              "      <th>min</th>\n",
              "      <td>2016.000000</td>\n",
              "      <td>0.000000</td>\n",
              "      <td>16.000000</td>\n",
              "    </tr>\n",
              "    <tr>\n",
              "      <th>25%</th>\n",
              "      <td>2016.000000</td>\n",
              "      <td>2.000000</td>\n",
              "      <td>26.000000</td>\n",
              "    </tr>\n",
              "    <tr>\n",
              "      <th>50%</th>\n",
              "      <td>2017.000000</td>\n",
              "      <td>3.000000</td>\n",
              "      <td>35.000000</td>\n",
              "    </tr>\n",
              "    <tr>\n",
              "      <th>75%</th>\n",
              "      <td>2018.000000</td>\n",
              "      <td>5.000000</td>\n",
              "      <td>49.000000</td>\n",
              "    </tr>\n",
              "    <tr>\n",
              "      <th>max</th>\n",
              "      <td>2056.000000</td>\n",
              "      <td>21.000000</td>\n",
              "      <td>100.000000</td>\n",
              "    </tr>\n",
              "  </tbody>\n",
              "</table>\n",
              "</div>"
            ],
            "text/plain": [
              "               year  household_size           age\n",
              "count  23524.000000    23496.000000  23490.000000\n",
              "mean    2016.979000        3.681818     38.804300\n",
              "std        0.899669        2.279933     16.519996\n",
              "min     2016.000000        0.000000     16.000000\n",
              "25%     2016.000000        2.000000     26.000000\n",
              "50%     2017.000000        3.000000     35.000000\n",
              "75%     2018.000000        5.000000     49.000000\n",
              "max     2056.000000       21.000000    100.000000"
            ]
          },
          "metadata": {
            "tags": []
          },
          "execution_count": 50
        }
      ]
    },
    {
      "cell_type": "code",
      "metadata": {
        "id": "pEV52McY0mPD",
        "colab_type": "code",
        "colab": {
          "base_uri": "https://localhost:8080/",
          "height": 297
        },
        "outputId": "8c77f034-4883-4448-a317-4bc7d3e3f880"
      },
      "source": [
        "#Checking for outliers in the years\n",
        "sns.boxplot(x=financial['year'])"
      ],
      "execution_count": 51,
      "outputs": [
        {
          "output_type": "execute_result",
          "data": {
            "text/plain": [
              "<matplotlib.axes._subplots.AxesSubplot at 0x7fa7968825c0>"
            ]
          },
          "metadata": {
            "tags": []
          },
          "execution_count": 51
        },
        {
          "output_type": "display_data",
          "data": {
            "image/png": "[encoded data removed]",
            "text/plain": [
              "<Figure size 432x288 with 1 Axes>"
            ]
          },
          "metadata": {
            "tags": [],
            "needs_background": "light"
          }
        }
      ]
    },
    {
      "cell_type": "markdown",
      "metadata": {
        "id": "Bq_atWny7yW8",
        "colab_type": "text"
      },
      "source": [
        "This shows that there are years that are beyond or scope for analysis.\n",
        "We are going to remove them later in the process in order to remain with the relevant years for analysis."
      ]
    },
    {
      "cell_type": "code",
      "metadata": {
        "id": "8glOTVpm0wAa",
        "colab_type": "code",
        "colab": {
          "base_uri": "https://localhost:8080/",
          "height": 298
        },
        "outputId": "15fef17b-b6fb-4ecd-9a8c-d66a271c41db"
      },
      "source": [
        "#Checking for outliers in the household sizes\n",
        "sns.boxplot(x=financial['household_size'])"
      ],
      "execution_count": 52,
      "outputs": [
        {
          "output_type": "execute_result",
          "data": {
            "text/plain": [
              "<matplotlib.axes._subplots.AxesSubplot at 0x7fa7967f0240>"
            ]
          },
          "metadata": {
            "tags": []
          },
          "execution_count": 52
        },
        {
          "output_type": "display_data",
          "data": {
            "image/png": "[encoded data removed]",
            "text/plain": [
              "<Figure size 432x288 with 1 Axes>"
            ]
          },
          "metadata": {
            "tags": [],
            "needs_background": "light"
          }
        }
      ]
    },
    {
      "cell_type": "markdown",
      "metadata": {
        "id": "P6bBe8Hu8KbI",
        "colab_type": "text"
      },
      "source": [
        "This shows that there are some households that are beyond the normal or rather the expected range. This is okay and it is just a variance in the range of household size."
      ]
    },
    {
      "cell_type": "code",
      "metadata": {
        "id": "PjO_Z4Dt1vmc",
        "colab_type": "code",
        "colab": {
          "base_uri": "https://localhost:8080/",
          "height": 297
        },
        "outputId": "93c14801-c7a7-4e47-b4ca-8ce87e28eef3"
      },
      "source": [
        "#Checking for outliers in the ages\n",
        "sns.boxplot(x=financial['age'])"
      ],
      "execution_count": 53,
      "outputs": [
        {
          "output_type": "execute_result",
          "data": {
            "text/plain": [
              "<matplotlib.axes._subplots.AxesSubplot at 0x7fa7967c48d0>"
            ]
          },
          "metadata": {
            "tags": []
          },
          "execution_count": 53
        },
        {
          "output_type": "display_data",
          "data": {
            "image/png": "[encoded data removed]",
            "text/plain": [
              "<Figure size 432x288 with 1 Axes>"
            ]
          },
          "metadata": {
            "tags": [],
            "needs_background": "light"
          }
        }
      ]
    },
    {
      "cell_type": "markdown",
      "metadata": {
        "id": "aqo9jTCZ_5d-",
        "colab_type": "text"
      },
      "source": [
        "Thre seems to be some ages well beyond the range but this too is okay as the population or rather the concetration seems to be high. We are thus not going to remove these too."
      ]
    },
    {
      "cell_type": "code",
      "metadata": {
        "id": "HBKn-a571czm",
        "colab_type": "code",
        "colab": {
          "base_uri": "https://localhost:8080/",
          "height": 272
        },
        "outputId": "59663495-1412-4875-f720-cc3f9df49675"
      },
      "source": [
        "#Checking for the sum of null values\n",
        "financial.isnull().sum()"
      ],
      "execution_count": 54,
      "outputs": [
        {
          "output_type": "execute_result",
          "data": {
            "text/plain": [
              "country                14\n",
              "year                    0\n",
              "id                      0\n",
              "bank_account_access    36\n",
              "location               15\n",
              "cellphone_access       11\n",
              "household_size         28\n",
              "age                    34\n",
              "gender                 34\n",
              "rship_with_head         4\n",
              "marital_status         32\n",
              "education_level        29\n",
              "job                    30\n",
              "dtype: int64"
            ]
          },
          "metadata": {
            "tags": []
          },
          "execution_count": 54
        }
      ]
    },
    {
      "cell_type": "code",
      "metadata": {
        "id": "r8lcd59Sfcgt",
        "colab_type": "code",
        "colab": {
          "base_uri": "https://localhost:8080/",
          "height": 272
        },
        "outputId": "e3cdfe7d-efe7-4b54-a9ce-fae5907a03bc"
      },
      "source": [
        "#Checking for the number of unique items in the columns.\n",
        "print(financial.nunique())"
      ],
      "execution_count": 55,
      "outputs": [
        {
          "output_type": "stream",
          "text": [
            "country                   4\n",
            "year                      6\n",
            "id                     8735\n",
            "bank_account_access       2\n",
            "location                  2\n",
            "cellphone_access          2\n",
            "household_size           21\n",
            "age                      85\n",
            "gender                    2\n",
            "rship_with_head           6\n",
            "marital_status            5\n",
            "education_level           7\n",
            "job                      10\n",
            "dtype: int64\n"
          ],
          "name": "stdout"
        }
      ]
    },
    {
      "cell_type": "code",
      "metadata": {
        "id": "GAs6Osz0gDNC",
        "colab_type": "code",
        "colab": {
          "base_uri": "https://localhost:8080/",
          "height": 72
        },
        "outputId": "09d4fb85-d5c4-48ec-9eeb-8fcd0b19bae1"
      },
      "source": [
        "#Checking for types of education level.\n",
        "print(financial['education_level'].unique())"
      ],
      "execution_count": 56,
      "outputs": [
        {
          "output_type": "stream",
          "text": [
            "['Secondary education' 'No formal education'\n",
            " 'Vocational/Specialised training' 'Primary education'\n",
            " 'Tertiary education' 'Other/Dont know/RTA' '6' nan]\n"
          ],
          "name": "stdout"
        }
      ]
    },
    {
      "cell_type": "code",
      "metadata": {
        "id": "NoUYmHUwgM5J",
        "colab_type": "code",
        "colab": {
          "base_uri": "https://localhost:8080/",
          "height": 54
        },
        "outputId": "259ae130-3302-4e5e-b538-7e81c3bf907b"
      },
      "source": [
        "#Checking  the types for relationship with the head of the household.\n",
        "print(financial['rship_with_head'].unique())"
      ],
      "execution_count": 57,
      "outputs": [
        {
          "output_type": "stream",
          "text": [
            "['Spouse' 'Head of Household' 'Other relative' 'Child' 'Parent'\n",
            " 'Other non-relatives' nan]\n"
          ],
          "name": "stdout"
        }
      ]
    },
    {
      "cell_type": "code",
      "metadata": {
        "id": "If6mTfUtgW3c",
        "colab_type": "code",
        "colab": {
          "base_uri": "https://localhost:8080/",
          "height": 90
        },
        "outputId": "625b1925-0953-4ef9-f312-76be31e5b6c4"
      },
      "source": [
        "#Checking te types for job.\n",
        "print(financial['job'].unique())"
      ],
      "execution_count": 58,
      "outputs": [
        {
          "output_type": "stream",
          "text": [
            "['Self employed' 'Government Dependent' 'Formally employed Private'\n",
            " 'Informally employed' 'Formally employed Government'\n",
            " 'Farming and Fishing' 'Remittance Dependent' 'Other Income'\n",
            " 'Dont Know/Refuse to answer' nan 'No Income']\n"
          ],
          "name": "stdout"
        }
      ]
    },
    {
      "cell_type": "code",
      "metadata": {
        "id": "IUK9a_D6GrdP",
        "colab_type": "code",
        "colab": {
          "base_uri": "https://localhost:8080/",
          "height": 54
        },
        "outputId": "b8026087-1e66-40ae-d2be-a7c1fae91c70"
      },
      "source": [
        "#Checking te types for job.\n",
        "print(financial['marital_status'].unique())"
      ],
      "execution_count": 199,
      "outputs": [
        {
          "output_type": "stream",
          "text": [
            "['married/living together' 'widowed' 'single/never married'\n",
            " 'divorced/seperated' 'dont know']\n"
          ],
          "name": "stdout"
        }
      ]
    },
    {
      "cell_type": "markdown",
      "metadata": {
        "id": "dwc7rNnPkxLJ",
        "colab_type": "text"
      },
      "source": [
        "## **Cleaning the Data**"
      ]
    },
    {
      "cell_type": "code",
      "metadata": {
        "id": "I_50HJj934i_",
        "colab_type": "code",
        "colab": {
          "base_uri": "https://localhost:8080/",
          "height": 322
        },
        "outputId": "ea6ef26c-4a4a-4ffd-a0e7-136176f34dd8"
      },
      "source": [
        "#Removing the unique ID column\n",
        "financial = financial.drop(columns=['id'])\n",
        "financial.head()"
      ],
      "execution_count": 59,
      "outputs": [
        {
          "output_type": "execute_result",
          "data": {
            "text/html": [
              "<div>\n",
              "<style scoped>\n",
              "    .dataframe tbody tr th:only-of-type {\n",
              "        vertical-align: middle;\n",
              "    }\n",
              "\n",
              "    .dataframe tbody tr th {\n",
              "        vertical-align: top;\n",
              "    }\n",
              "\n",
              "    .dataframe thead th {\n",
              "        text-align: right;\n",
              "    }\n",
              "</style>\n",
              "<table border=\"1\" class=\"dataframe\">\n",
              "  <thead>\n",
              "    <tr style=\"text-align: right;\">\n",
              "      <th></th>\n",
              "      <th>country</th>\n",
              "      <th>year</th>\n",
              "      <th>bank_account_access</th>\n",
              "      <th>location</th>\n",
              "      <th>cellphone_access</th>\n",
              "      <th>household_size</th>\n",
              "      <th>age</th>\n",
              "      <th>gender</th>\n",
              "      <th>rship_with_head</th>\n",
              "      <th>marital_status</th>\n",
              "      <th>education_level</th>\n",
              "      <th>job</th>\n",
              "    </tr>\n",
              "  </thead>\n",
              "  <tbody>\n",
              "    <tr>\n",
              "      <th>0</th>\n",
              "      <td>Kenya</td>\n",
              "      <td>2018</td>\n",
              "      <td>Yes</td>\n",
              "      <td>Rural</td>\n",
              "      <td>Yes</td>\n",
              "      <td>3.0</td>\n",
              "      <td>24.0</td>\n",
              "      <td>Female</td>\n",
              "      <td>Spouse</td>\n",
              "      <td>Married/Living together</td>\n",
              "      <td>Secondary education</td>\n",
              "      <td>Self employed</td>\n",
              "    </tr>\n",
              "    <tr>\n",
              "      <th>1</th>\n",
              "      <td>Kenya</td>\n",
              "      <td>2018</td>\n",
              "      <td>No</td>\n",
              "      <td>Rural</td>\n",
              "      <td>No</td>\n",
              "      <td>5.0</td>\n",
              "      <td>70.0</td>\n",
              "      <td>Female</td>\n",
              "      <td>Head of Household</td>\n",
              "      <td>Widowed</td>\n",
              "      <td>No formal education</td>\n",
              "      <td>Government Dependent</td>\n",
              "    </tr>\n",
              "    <tr>\n",
              "      <th>2</th>\n",
              "      <td>Kenya</td>\n",
              "      <td>2018</td>\n",
              "      <td>Yes</td>\n",
              "      <td>Urban</td>\n",
              "      <td>Yes</td>\n",
              "      <td>5.0</td>\n",
              "      <td>26.0</td>\n",
              "      <td>Male</td>\n",
              "      <td>Other relative</td>\n",
              "      <td>Single/Never Married</td>\n",
              "      <td>Vocational/Specialised training</td>\n",
              "      <td>Self employed</td>\n",
              "    </tr>\n",
              "    <tr>\n",
              "      <th>3</th>\n",
              "      <td>Kenya</td>\n",
              "      <td>2018</td>\n",
              "      <td>No</td>\n",
              "      <td>Rural</td>\n",
              "      <td>Yes</td>\n",
              "      <td>5.0</td>\n",
              "      <td>34.0</td>\n",
              "      <td>Female</td>\n",
              "      <td>Head of Household</td>\n",
              "      <td>Married/Living together</td>\n",
              "      <td>Primary education</td>\n",
              "      <td>Formally employed Private</td>\n",
              "    </tr>\n",
              "    <tr>\n",
              "      <th>4</th>\n",
              "      <td>Kenya</td>\n",
              "      <td>2018</td>\n",
              "      <td>No</td>\n",
              "      <td>Urban</td>\n",
              "      <td>No</td>\n",
              "      <td>8.0</td>\n",
              "      <td>26.0</td>\n",
              "      <td>Male</td>\n",
              "      <td>Child</td>\n",
              "      <td>Single/Never Married</td>\n",
              "      <td>Primary education</td>\n",
              "      <td>Informally employed</td>\n",
              "    </tr>\n",
              "  </tbody>\n",
              "</table>\n",
              "</div>"
            ],
            "text/plain": [
              "  country  year  ...                  education_level                        job\n",
              "0   Kenya  2018  ...              Secondary education              Self employed\n",
              "1   Kenya  2018  ...              No formal education       Government Dependent\n",
              "2   Kenya  2018  ...  Vocational/Specialised training              Self employed\n",
              "3   Kenya  2018  ...                Primary education  Formally employed Private\n",
              "4   Kenya  2018  ...                Primary education        Informally employed\n",
              "\n",
              "[5 rows x 12 columns]"
            ]
          },
          "metadata": {
            "tags": []
          },
          "execution_count": 59
        }
      ]
    },
    {
      "cell_type": "code",
      "metadata": {
        "id": "l_1X8rZLzzRi",
        "colab_type": "code",
        "colab": {
          "base_uri": "https://localhost:8080/",
          "height": 35
        },
        "outputId": "e04856a6-047d-4e37-e504-92f6648e1975"
      },
      "source": [
        "#Selecting the years that we need to remove the outliers.\n",
        "financial = financial.query(\"2018 >=year >= 2016\")\n",
        "financial.shape"
      ],
      "execution_count": 60,
      "outputs": [
        {
          "output_type": "execute_result",
          "data": {
            "text/plain": [
              "(23521, 12)"
            ]
          },
          "metadata": {
            "tags": []
          },
          "execution_count": 60
        }
      ]
    },
    {
      "cell_type": "code",
      "metadata": {
        "id": "rHtgC65wAzME",
        "colab_type": "code",
        "colab": {
          "base_uri": "https://localhost:8080/",
          "height": 35
        },
        "outputId": "6e0953cf-f767-4415-bfe5-aedf227a9007"
      },
      "source": [
        "#Dropping rows with null values in the specified rows.\n",
        "financial = financial.dropna(subset=['country','bank_account_access','location','cellphone_access','age','gender','marital_status','education_level','job'],how='any')\n",
        "financial.shape"
      ],
      "execution_count": 61,
      "outputs": [
        {
          "output_type": "execute_result",
          "data": {
            "text/plain": [
              "(23361, 12)"
            ]
          },
          "metadata": {
            "tags": []
          },
          "execution_count": 61
        }
      ]
    },
    {
      "cell_type": "markdown",
      "metadata": {
        "id": "_LKt4GQjlnhm",
        "colab_type": "text"
      },
      "source": [
        "We can see that after dropping the values in the columns of interest the number of rows decreases."
      ]
    },
    {
      "cell_type": "code",
      "metadata": {
        "id": "T9uvFcn556rK",
        "colab_type": "code",
        "colab": {
          "base_uri": "https://localhost:8080/",
          "height": 254
        },
        "outputId": "b8761a2e-1d06-43ec-df01-f011f89c8861"
      },
      "source": [
        "#Checking if there are any null values in our rows of interest.\n",
        "financial.isnull().sum()"
      ],
      "execution_count": 62,
      "outputs": [
        {
          "output_type": "execute_result",
          "data": {
            "text/plain": [
              "country                 0\n",
              "year                    0\n",
              "bank_account_access     0\n",
              "location                0\n",
              "cellphone_access        0\n",
              "household_size         21\n",
              "age                     0\n",
              "gender                  0\n",
              "rship_with_head         0\n",
              "marital_status          0\n",
              "education_level         0\n",
              "job                     0\n",
              "dtype: int64"
            ]
          },
          "metadata": {
            "tags": []
          },
          "execution_count": 62
        }
      ]
    },
    {
      "cell_type": "code",
      "metadata": {
        "id": "ogw-89Wo5xzD",
        "colab_type": "code",
        "colab": {
          "base_uri": "https://localhost:8080/",
          "height": 322
        },
        "outputId": "d6fd661e-3ea2-4f85-9a55-64e1aa1a32eb"
      },
      "source": [
        "#Changing the values for the respective columns into lowercase values.\n",
        "financial[\"country\"] = financial[\"country\"].str.lower()\n",
        "financial[\"location\"] = financial[\"location\"].str.lower()\n",
        "financial[\"bank_account_access\"] = financial[\"bank_account_access\"].str.lower()\n",
        "financial[\"cellphone_access\"] = financial[\"cellphone_access\"].str.lower()\n",
        "financial[\"gender\"] = financial[\"gender\"].str.lower()\n",
        "financial[\"rship_with_head\"] = financial[\"rship_with_head\"].str.lower()\n",
        "financial[\"marital_status\"] = financial[\"marital_status\"].str.lower()\n",
        "financial[\"education_level\"] = financial[\"education_level\"].str.lower()\n",
        "financial[\"job\"] = financial[\"job\"].str.lower()\n",
        "financial.head()"
      ],
      "execution_count": 63,
      "outputs": [
        {
          "output_type": "execute_result",
          "data": {
            "text/html": [
              "<div>\n",
              "<style scoped>\n",
              "    .dataframe tbody tr th:only-of-type {\n",
              "        vertical-align: middle;\n",
              "    }\n",
              "\n",
              "    .dataframe tbody tr th {\n",
              "        vertical-align: top;\n",
              "    }\n",
              "\n",
              "    .dataframe thead th {\n",
              "        text-align: right;\n",
              "    }\n",
              "</style>\n",
              "<table border=\"1\" class=\"dataframe\">\n",
              "  <thead>\n",
              "    <tr style=\"text-align: right;\">\n",
              "      <th></th>\n",
              "      <th>country</th>\n",
              "      <th>year</th>\n",
              "      <th>bank_account_access</th>\n",
              "      <th>location</th>\n",
              "      <th>cellphone_access</th>\n",
              "      <th>household_size</th>\n",
              "      <th>age</th>\n",
              "      <th>gender</th>\n",
              "      <th>rship_with_head</th>\n",
              "      <th>marital_status</th>\n",
              "      <th>education_level</th>\n",
              "      <th>job</th>\n",
              "    </tr>\n",
              "  </thead>\n",
              "  <tbody>\n",
              "    <tr>\n",
              "      <th>0</th>\n",
              "      <td>kenya</td>\n",
              "      <td>2018</td>\n",
              "      <td>yes</td>\n",
              "      <td>rural</td>\n",
              "      <td>yes</td>\n",
              "      <td>3.0</td>\n",
              "      <td>24.0</td>\n",
              "      <td>female</td>\n",
              "      <td>spouse</td>\n",
              "      <td>married/living together</td>\n",
              "      <td>secondary education</td>\n",
              "      <td>self employed</td>\n",
              "    </tr>\n",
              "    <tr>\n",
              "      <th>1</th>\n",
              "      <td>kenya</td>\n",
              "      <td>2018</td>\n",
              "      <td>no</td>\n",
              "      <td>rural</td>\n",
              "      <td>no</td>\n",
              "      <td>5.0</td>\n",
              "      <td>70.0</td>\n",
              "      <td>female</td>\n",
              "      <td>head of household</td>\n",
              "      <td>widowed</td>\n",
              "      <td>no formal education</td>\n",
              "      <td>government dependent</td>\n",
              "    </tr>\n",
              "    <tr>\n",
              "      <th>2</th>\n",
              "      <td>kenya</td>\n",
              "      <td>2018</td>\n",
              "      <td>yes</td>\n",
              "      <td>urban</td>\n",
              "      <td>yes</td>\n",
              "      <td>5.0</td>\n",
              "      <td>26.0</td>\n",
              "      <td>male</td>\n",
              "      <td>other relative</td>\n",
              "      <td>single/never married</td>\n",
              "      <td>vocational/specialised training</td>\n",
              "      <td>self employed</td>\n",
              "    </tr>\n",
              "    <tr>\n",
              "      <th>3</th>\n",
              "      <td>kenya</td>\n",
              "      <td>2018</td>\n",
              "      <td>no</td>\n",
              "      <td>rural</td>\n",
              "      <td>yes</td>\n",
              "      <td>5.0</td>\n",
              "      <td>34.0</td>\n",
              "      <td>female</td>\n",
              "      <td>head of household</td>\n",
              "      <td>married/living together</td>\n",
              "      <td>primary education</td>\n",
              "      <td>formally employed private</td>\n",
              "    </tr>\n",
              "    <tr>\n",
              "      <th>4</th>\n",
              "      <td>kenya</td>\n",
              "      <td>2018</td>\n",
              "      <td>no</td>\n",
              "      <td>urban</td>\n",
              "      <td>no</td>\n",
              "      <td>8.0</td>\n",
              "      <td>26.0</td>\n",
              "      <td>male</td>\n",
              "      <td>child</td>\n",
              "      <td>single/never married</td>\n",
              "      <td>primary education</td>\n",
              "      <td>informally employed</td>\n",
              "    </tr>\n",
              "  </tbody>\n",
              "</table>\n",
              "</div>"
            ],
            "text/plain": [
              "  country  year  ...                  education_level                        job\n",
              "0   kenya  2018  ...              secondary education              self employed\n",
              "1   kenya  2018  ...              no formal education       government dependent\n",
              "2   kenya  2018  ...  vocational/specialised training              self employed\n",
              "3   kenya  2018  ...                primary education  formally employed private\n",
              "4   kenya  2018  ...                primary education        informally employed\n",
              "\n",
              "[5 rows x 12 columns]"
            ]
          },
          "metadata": {
            "tags": []
          },
          "execution_count": 63
        }
      ]
    },
    {
      "cell_type": "markdown",
      "metadata": {
        "id": "nVuYJJwyUgJD",
        "colab_type": "text"
      },
      "source": [
        "#**Data Analysis**"
      ]
    },
    {
      "cell_type": "markdown",
      "metadata": {
        "id": "N1KithQJZTWM",
        "colab_type": "text"
      },
      "source": [
        "## **Splitting the data**"
      ]
    },
    {
      "cell_type": "code",
      "metadata": {
        "id": "UqKAS_ESZOjg",
        "colab_type": "code",
        "colab": {}
      },
      "source": [
        "#Dividing the data into financial years.\n",
        "financial_2016 = financial.query(\"year == 2016\")\n",
        "financial_2017 = financial.query(\"year == 2017\")\n",
        "financial_2018 = financial.query(\"year == 2018\")"
      ],
      "execution_count": 64,
      "outputs": []
    },
    {
      "cell_type": "code",
      "metadata": {
        "id": "y79XkHyqZRl2",
        "colab_type": "code",
        "colab": {}
      },
      "source": [
        "#Dividing the data into the respective country financials.\n",
        "financial_kenya = financial.loc[financial['country'] == 'kenya']\n",
        "financial_rwanda = financial.loc[financial['country'] == 'rwanda']\n",
        "financial_tanzania = financial.loc[financial['country'] == 'tanzania']\n",
        "financial_uganda = financial.loc[financial['country'] == 'uganda']"
      ],
      "execution_count": 65,
      "outputs": []
    },
    {
      "cell_type": "markdown",
      "metadata": {
        "id": "E6V4RlqdZlw2",
        "colab_type": "text"
      },
      "source": [
        "## **Univariate Analysis**"
      ]
    },
    {
      "cell_type": "markdown",
      "metadata": {
        "id": "YRVw3c6Vi9Qr",
        "colab_type": "text"
      },
      "source": [
        "***Distribution of Bank Account Access***"
      ]
    },
    {
      "cell_type": "code",
      "metadata": {
        "id": "4VBeAN-LZkv-",
        "colab_type": "code",
        "colab": {
          "base_uri": "https://localhost:8080/",
          "height": 295
        },
        "outputId": "d60bdedc-9545-4b5d-a0b8-98ab2a348f1d"
      },
      "source": [
        "financial['bank_account_access'].value_counts().plot.bar(title='Distribution of Bank account access')\n",
        "plt.xlabel('Bank account access')\n",
        "plt.ylabel('Count')\n",
        "plt.xticks(rotation = 0)\n",
        "plt.show()"
      ],
      "execution_count": 66,
      "outputs": [
        {
          "output_type": "display_data",
          "data": {
            "image/png": "[encoded data removed]",
            "text/plain": [
              "<Figure size 432x288 with 1 Axes>"
            ]
          },
          "metadata": {
            "tags": [],
            "needs_background": "light"
          }
        }
      ]
    },
    {
      "cell_type": "markdown",
      "metadata": {
        "id": "b5KNB5dwjWzk",
        "colab_type": "text"
      },
      "source": [
        "As seen above, the distribution shows that most of the people do not have access to bank accounts."
      ]
    },
    {
      "cell_type": "code",
      "metadata": {
        "id": "-a5l46BIk96D",
        "colab_type": "code",
        "colab": {}
      },
      "source": [
        "#Splitting the data into two groups of people with access to bank accounts and those without.\n",
        "financial_yes_bank = financial.loc[financial['bank_account_access'] == 'yes']\n",
        "financial_no_bank = financial.loc[financial['bank_account_access'] == 'no']"
      ],
      "execution_count": 67,
      "outputs": []
    },
    {
      "cell_type": "markdown",
      "metadata": {
        "id": "95MQvQ2mjmBZ",
        "colab_type": "text"
      },
      "source": [
        "***Distribution of Cell Phone Access***"
      ]
    },
    {
      "cell_type": "code",
      "metadata": {
        "id": "btulpF07jUvx",
        "colab_type": "code",
        "colab": {
          "base_uri": "https://localhost:8080/",
          "height": 295
        },
        "outputId": "eb8734ee-b2e2-4466-a246-ad1720bbe606"
      },
      "source": [
        "financial['cellphone_access'].value_counts().plot.bar(title='Distribution of Cell Phone access')\n",
        "plt.xlabel('Cell Phone access')\n",
        "plt.ylabel('Count')\n",
        "plt.xticks(rotation = 0)\n",
        "plt.show()"
      ],
      "execution_count": 121,
      "outputs": [
        {
          "output_type": "display_data",
          "data": {
            "image/png": "[encoded data removed]",
            "text/plain": [
              "<Figure size 432x288 with 1 Axes>"
            ]
          },
          "metadata": {
            "tags": [],
            "needs_background": "light"
          }
        }
      ]
    },
    {
      "cell_type": "markdown",
      "metadata": {
        "id": "F4hxDjZRj670",
        "colab_type": "text"
      },
      "source": [
        "This shows that most people have access to cell phones."
      ]
    },
    {
      "cell_type": "markdown",
      "metadata": {
        "id": "yotCoWSCZsiH",
        "colab_type": "text"
      },
      "source": [
        "## **Bivariate Analysis**"
      ]
    },
    {
      "cell_type": "code",
      "metadata": {
        "id": "VdfEs4T-Jgj_",
        "colab_type": "code",
        "colab": {
          "base_uri": "https://localhost:8080/",
          "height": 254
        },
        "outputId": "2f125fdd-90c6-4979-fbe7-a11dd5fe81a7"
      },
      "source": [
        "financial.isnull().sum()"
      ],
      "execution_count": 209,
      "outputs": [
        {
          "output_type": "execute_result",
          "data": {
            "text/plain": [
              "country                 0\n",
              "year                    0\n",
              "bank_account_access     0\n",
              "location                0\n",
              "cellphone_access        0\n",
              "household_size         21\n",
              "age                     0\n",
              "gender                  0\n",
              "rship_with_head         0\n",
              "marital_status          0\n",
              "education_level         0\n",
              "job                     0\n",
              "dtype: int64"
            ]
          },
          "metadata": {
            "tags": []
          },
          "execution_count": 209
        }
      ]
    },
    {
      "cell_type": "markdown",
      "metadata": {
        "id": "-b3jPfaIJJzJ",
        "colab_type": "text"
      },
      "source": [
        "*Creating x axis for various fields.*"
      ]
    },
    {
      "cell_type": "code",
      "metadata": {
        "colab_type": "code",
        "id": "2LSJytSvrrli",
        "colab": {
          "base_uri": "https://localhost:8080/",
          "height": 199
        },
        "outputId": "1c57aa9b-b108-43db-fd83-da8430791db0"
      },
      "source": [
        "x= ['yes','no']\n",
        "print(x)\n",
        "x_cou = financial['country'].unique()\n",
        "print(x_cou)\n",
        "x_loc = financial['location'].unique()\n",
        "print(x_loc)\n",
        "x_edu = financial['education_level'].unique()\n",
        "print(x_edu)\n",
        "x_job = financial['job'].unique()\n",
        "print(x_job)"
      ],
      "execution_count": 210,
      "outputs": [
        {
          "output_type": "stream",
          "text": [
            "['yes', 'no']\n",
            "['kenya' 'rwanda' 'tanzania' 'uganda']\n",
            "['rural' 'urban']\n",
            "['secondary education' 'no formal education'\n",
            " 'vocational/specialised training' 'primary education'\n",
            " 'tertiary education' 'other/dont know/rta' '6']\n",
            "['self employed' 'government dependent' 'formally employed private'\n",
            " 'informally employed' 'formally employed government'\n",
            " 'farming and fishing' 'remittance dependent' 'other income'\n",
            " 'dont know/refuse to answer' 'no income']\n"
          ],
          "name": "stdout"
        }
      ]
    },
    {
      "cell_type": "code",
      "metadata": {
        "id": "Osbu9NfR7b81",
        "colab_type": "code",
        "colab": {
          "base_uri": "https://localhost:8080/",
          "height": 283
        },
        "outputId": "39760858-ff2d-4122-91f1-b72ca5a0e654"
      },
      "source": [
        "baa = financial['bank_account_access'].value_counts()\n",
        "ca = financial['cellphone_access'].value_counts()\n",
        "barWidth = 0.7\n",
        "plt.bar(x, baa, color='cornflowerblue', edgecolor='white', width=barWidth)\n",
        "plt.bar(x, ca, bottom=baa, color='#557f2d', edgecolor='white', width=barWidth)\n",
        "plt.legend()\n",
        "plt.show()"
      ],
      "execution_count": 186,
      "outputs": [
        {
          "output_type": "stream",
          "text": [
            "No handles with labels found to put in legend.\n"
          ],
          "name": "stderr"
        },
        {
          "output_type": "display_data",
          "data": {
            "image/png": "[encoded data removed]",
            "text/plain": [
              "<Figure size 432x288 with 1 Axes>"
            ]
          },
          "metadata": {
            "tags": [],
            "needs_background": "light"
          }
        }
      ]
    },
    {
      "cell_type": "code",
      "metadata": {
        "colab_type": "code",
        "id": "d3WZzeNvrrlr",
        "colab": {
          "base_uri": "https://localhost:8080/",
          "height": 265
        },
        "outputId": "b7c65af5-1ec7-42d8-c3c6-e7a281c5f243"
      },
      "source": [
        "loca = financial['location'].value_counts()\n",
        "barWidth = 0.7\n",
        "plt.bar(x_loc, baa, color='cornflowerblue', width=barWidth)\n",
        "plt.bar(x_loc, loca, bottom=baa, color='#557f2d', width=barWidth)\n",
        "plt.show()"
      ],
      "execution_count": 198,
      "outputs": [
        {
          "output_type": "display_data",
          "data": {
            "image/png": "[encoded data removed]",
            "text/plain": [
              "<Figure size 432x288 with 1 Axes>"
            ]
          },
          "metadata": {
            "tags": [],
            "needs_background": "light"
          }
        }
      ]
    },
    {
      "cell_type": "code",
      "metadata": {
        "id": "ALBDZe9EHiqJ",
        "colab_type": "code",
        "colab": {
          "base_uri": "https://localhost:8080/",
          "height": 369
        },
        "outputId": "b0329bd2-9749-456a-e25e-a71b76e17af5"
      },
      "source": [
        "sns.lmplot( x=\"age\", y=\"household_size\", data=financial, fit_reg=False, legend=False)\n",
        "plt.show()"
      ],
      "execution_count": 207,
      "outputs": [
        {
          "output_type": "display_data",
          "data": {
            "image/png": "[encoded data removed]",
            "text/plain": [
              "<Figure size 360x360 with 1 Axes>"
            ]
          },
          "metadata": {
            "tags": [],
            "needs_background": "light"
          }
        }
      ]
    },
    {
      "cell_type": "markdown",
      "metadata": {
        "id": "iyYed1M-Jpw9",
        "colab_type": "text"
      },
      "source": [
        "We can see here that there is a type of relation between the age and the household size."
      ]
    },
    {
      "cell_type": "markdown",
      "metadata": {
        "id": "Dyw4dKy0Zyd7",
        "colab_type": "text"
      },
      "source": [
        "## **Multivariate Analysis**"
      ]
    },
    {
      "cell_type": "markdown",
      "metadata": {
        "id": "O5cTDpiPkw87",
        "colab_type": "text"
      },
      "source": [
        "# **Conclusion**"
      ]
    },
    {
      "cell_type": "markdown",
      "metadata": {
        "id": "SQ4R1RXyUhx7",
        "colab_type": "text"
      },
      "source": [
        "# **Recommendation**"
      ]
    }
  ]
}